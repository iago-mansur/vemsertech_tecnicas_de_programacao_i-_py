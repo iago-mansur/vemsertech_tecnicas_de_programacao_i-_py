{
 "cells": [
  {
   "cell_type": "markdown",
   "id": "98fbbe95",
   "metadata": {},
   "source": [
    "# Aula 05 - EDA com pandas: ferramentas básicas e gráficos"
   ]
  },
  {
   "cell_type": "markdown",
   "id": "79fcbe7d",
   "metadata": {},
   "source": [
    "___\n",
    "Na aula passada, iniciamos nosso estudo da biblioteca **pandas**.\n",
    "\n",
    "Alguns dos principais pontos que vimos, foram:\n",
    "- o **elemento básico** da biblioteca *pandas* é o objeto *pandas.Series*. Este, por sua vez, é estruturado a partir dos **arrays** de *numpy*;\n",
    "- um **pandas.DataFrame** é um objeto que engloba um conjunto de *pandas.Series*;\n",
    "- geralmente, associaremos cada coluna no nosso conjunto de dados a uma série do pandas, e cada linha do DataFrame representará uma observação;\n",
    "- existem funções muito úteis para manipular conjuntos de dados e obter métricas de agregação a partir deles."
   ]
  },
  {
   "cell_type": "markdown",
   "id": "879039d0",
   "metadata": {},
   "source": [
    "Nesta aula, iremos continuar nosso estudo enfocando algumas outras funções bastante importantes para o pandas, ilustrando com algumas bases de dados."
   ]
  },
  {
   "cell_type": "markdown",
   "id": "d223ef7e",
   "metadata": {},
   "source": [
    "___"
   ]
  },
  {
   "cell_type": "code",
   "execution_count": 202,
   "id": "894bfb96",
   "metadata": {},
   "outputs": [],
   "source": [
    "import pandas as pd"
   ]
  },
  {
   "cell_type": "code",
   "execution_count": 203,
   "id": "0b71d2ea",
   "metadata": {},
   "outputs": [],
   "source": [
    "df = pd.read_csv(\"population-and-demography.csv\")"
   ]
  },
  {
   "cell_type": "markdown",
   "id": "afcd8aa8",
   "metadata": {},
   "source": [
    "**.head():** visualizando as primeiras linhas do dataframe"
   ]
  },
  {
   "cell_type": "markdown",
   "id": "f4fa5f28",
   "metadata": {},
   "source": [
    "### O que podemos explorar nesse conjunto de dados?"
   ]
  },
  {
   "cell_type": "code",
   "execution_count": 204,
   "id": "c6f95d43",
   "metadata": {},
   "outputs": [
    {
     "data": {
      "text/html": [
       "<div>\n",
       "<style scoped>\n",
       "    .dataframe tbody tr th:only-of-type {\n",
       "        vertical-align: middle;\n",
       "    }\n",
       "\n",
       "    .dataframe tbody tr th {\n",
       "        vertical-align: top;\n",
       "    }\n",
       "\n",
       "    .dataframe thead th {\n",
       "        text-align: right;\n",
       "    }\n",
       "</style>\n",
       "<table border=\"1\" class=\"dataframe\">\n",
       "  <thead>\n",
       "    <tr style=\"text-align: right;\">\n",
       "      <th></th>\n",
       "      <th>Country name</th>\n",
       "      <th>Year</th>\n",
       "      <th>Population</th>\n",
       "      <th>Population of children under the age of 1</th>\n",
       "      <th>Population of children under the age of 5</th>\n",
       "      <th>Population of children under the age of 15</th>\n",
       "      <th>Population under the age of 25</th>\n",
       "      <th>Population aged 15 to 64 years</th>\n",
       "      <th>Population older than 15 years</th>\n",
       "      <th>Population older than 18 years</th>\n",
       "      <th>...</th>\n",
       "      <th>Population aged 15 to 19 years</th>\n",
       "      <th>Population aged 20 to 29 years</th>\n",
       "      <th>Population aged 30 to 39 years</th>\n",
       "      <th>Population aged 40 to 49 years</th>\n",
       "      <th>Population aged 50 to 59 years</th>\n",
       "      <th>Population aged 60 to 69 years</th>\n",
       "      <th>Population aged 70 to 79 years</th>\n",
       "      <th>Population aged 80 to 89 years</th>\n",
       "      <th>Population aged 90 to 99 years</th>\n",
       "      <th>Population older than 100 years</th>\n",
       "    </tr>\n",
       "  </thead>\n",
       "  <tbody>\n",
       "    <tr>\n",
       "      <th>0</th>\n",
       "      <td>Afghanistan</td>\n",
       "      <td>1950</td>\n",
       "      <td>7480464</td>\n",
       "      <td>301735.0</td>\n",
       "      <td>1248282</td>\n",
       "      <td>3068855</td>\n",
       "      <td>4494349</td>\n",
       "      <td>4198587</td>\n",
       "      <td>4411609</td>\n",
       "      <td>3946595</td>\n",
       "      <td>...</td>\n",
       "      <td>757113</td>\n",
       "      <td>1241348</td>\n",
       "      <td>909953</td>\n",
       "      <td>661807</td>\n",
       "      <td>467170</td>\n",
       "      <td>271905</td>\n",
       "      <td>92691</td>\n",
       "      <td>9499</td>\n",
       "      <td>123</td>\n",
       "      <td>0.0</td>\n",
       "    </tr>\n",
       "    <tr>\n",
       "      <th>1</th>\n",
       "      <td>Afghanistan</td>\n",
       "      <td>1951</td>\n",
       "      <td>7571542</td>\n",
       "      <td>299368.0</td>\n",
       "      <td>1246857</td>\n",
       "      <td>3105444</td>\n",
       "      <td>4552138</td>\n",
       "      <td>4250002</td>\n",
       "      <td>4466098</td>\n",
       "      <td>3993640</td>\n",
       "      <td>...</td>\n",
       "      <td>768616</td>\n",
       "      <td>1260904</td>\n",
       "      <td>922765</td>\n",
       "      <td>667015</td>\n",
       "      <td>468881</td>\n",
       "      <td>273286</td>\n",
       "      <td>94358</td>\n",
       "      <td>10155</td>\n",
       "      <td>118</td>\n",
       "      <td>0.0</td>\n",
       "    </tr>\n",
       "    <tr>\n",
       "      <th>2</th>\n",
       "      <td>Afghanistan</td>\n",
       "      <td>1952</td>\n",
       "      <td>7667534</td>\n",
       "      <td>305393.0</td>\n",
       "      <td>1248220</td>\n",
       "      <td>3145070</td>\n",
       "      <td>4613604</td>\n",
       "      <td>4303436</td>\n",
       "      <td>4522464</td>\n",
       "      <td>4041439</td>\n",
       "      <td>...</td>\n",
       "      <td>781411</td>\n",
       "      <td>1280288</td>\n",
       "      <td>935638</td>\n",
       "      <td>672491</td>\n",
       "      <td>470898</td>\n",
       "      <td>274852</td>\n",
       "      <td>96026</td>\n",
       "      <td>10721</td>\n",
       "      <td>139</td>\n",
       "      <td>0.0</td>\n",
       "    </tr>\n",
       "    <tr>\n",
       "      <th>3</th>\n",
       "      <td>Afghanistan</td>\n",
       "      <td>1953</td>\n",
       "      <td>7764549</td>\n",
       "      <td>311574.0</td>\n",
       "      <td>1254725</td>\n",
       "      <td>3186382</td>\n",
       "      <td>4676232</td>\n",
       "      <td>4356242</td>\n",
       "      <td>4578167</td>\n",
       "      <td>4088379</td>\n",
       "      <td>...</td>\n",
       "      <td>794308</td>\n",
       "      <td>1298803</td>\n",
       "      <td>948321</td>\n",
       "      <td>678064</td>\n",
       "      <td>472969</td>\n",
       "      <td>276577</td>\n",
       "      <td>97705</td>\n",
       "      <td>11254</td>\n",
       "      <td>166</td>\n",
       "      <td>0.0</td>\n",
       "    </tr>\n",
       "    <tr>\n",
       "      <th>4</th>\n",
       "      <td>Afghanistan</td>\n",
       "      <td>1954</td>\n",
       "      <td>7864289</td>\n",
       "      <td>317584.0</td>\n",
       "      <td>1267817</td>\n",
       "      <td>3231060</td>\n",
       "      <td>4741371</td>\n",
       "      <td>4408474</td>\n",
       "      <td>4633229</td>\n",
       "      <td>4136116</td>\n",
       "      <td>...</td>\n",
       "      <td>806216</td>\n",
       "      <td>1316768</td>\n",
       "      <td>961484</td>\n",
       "      <td>684153</td>\n",
       "      <td>475117</td>\n",
       "      <td>278210</td>\n",
       "      <td>99298</td>\n",
       "      <td>11793</td>\n",
       "      <td>190</td>\n",
       "      <td>0.0</td>\n",
       "    </tr>\n",
       "  </tbody>\n",
       "</table>\n",
       "<p>5 rows × 24 columns</p>\n",
       "</div>"
      ],
      "text/plain": [
       "  Country name  Year  Population  Population of children under the age of 1  \\\n",
       "0  Afghanistan  1950     7480464                                   301735.0   \n",
       "1  Afghanistan  1951     7571542                                   299368.0   \n",
       "2  Afghanistan  1952     7667534                                   305393.0   \n",
       "3  Afghanistan  1953     7764549                                   311574.0   \n",
       "4  Afghanistan  1954     7864289                                   317584.0   \n",
       "\n",
       "   Population of children under the age of 5  \\\n",
       "0                                    1248282   \n",
       "1                                    1246857   \n",
       "2                                    1248220   \n",
       "3                                    1254725   \n",
       "4                                    1267817   \n",
       "\n",
       "   Population of children under the age of 15  Population under the age of 25  \\\n",
       "0                                     3068855                         4494349   \n",
       "1                                     3105444                         4552138   \n",
       "2                                     3145070                         4613604   \n",
       "3                                     3186382                         4676232   \n",
       "4                                     3231060                         4741371   \n",
       "\n",
       "   Population aged 15 to 64 years  Population older than 15 years  \\\n",
       "0                         4198587                         4411609   \n",
       "1                         4250002                         4466098   \n",
       "2                         4303436                         4522464   \n",
       "3                         4356242                         4578167   \n",
       "4                         4408474                         4633229   \n",
       "\n",
       "   Population older than 18 years  ...  Population aged 15 to 19 years  \\\n",
       "0                         3946595  ...                          757113   \n",
       "1                         3993640  ...                          768616   \n",
       "2                         4041439  ...                          781411   \n",
       "3                         4088379  ...                          794308   \n",
       "4                         4136116  ...                          806216   \n",
       "\n",
       "   Population aged 20 to 29 years  Population aged 30 to 39 years  \\\n",
       "0                         1241348                          909953   \n",
       "1                         1260904                          922765   \n",
       "2                         1280288                          935638   \n",
       "3                         1298803                          948321   \n",
       "4                         1316768                          961484   \n",
       "\n",
       "   Population aged 40 to 49 years  Population aged 50 to 59 years  \\\n",
       "0                          661807                          467170   \n",
       "1                          667015                          468881   \n",
       "2                          672491                          470898   \n",
       "3                          678064                          472969   \n",
       "4                          684153                          475117   \n",
       "\n",
       "   Population aged 60 to 69 years  Population aged 70 to 79 years  \\\n",
       "0                          271905                           92691   \n",
       "1                          273286                           94358   \n",
       "2                          274852                           96026   \n",
       "3                          276577                           97705   \n",
       "4                          278210                           99298   \n",
       "\n",
       "   Population aged 80 to 89 years  Population aged 90 to 99 years  \\\n",
       "0                            9499                             123   \n",
       "1                           10155                             118   \n",
       "2                           10721                             139   \n",
       "3                           11254                             166   \n",
       "4                           11793                             190   \n",
       "\n",
       "   Population older than 100 years  \n",
       "0                              0.0  \n",
       "1                              0.0  \n",
       "2                              0.0  \n",
       "3                              0.0  \n",
       "4                              0.0  \n",
       "\n",
       "[5 rows x 24 columns]"
      ]
     },
     "execution_count": 204,
     "metadata": {},
     "output_type": "execute_result"
    }
   ],
   "source": [
    "df.head()"
   ]
  },
  {
   "cell_type": "code",
   "execution_count": 207,
   "id": "f356b260",
   "metadata": {},
   "outputs": [
    {
     "data": {
      "text/plain": [
       "13523"
      ]
     },
     "execution_count": 207,
     "metadata": {},
     "output_type": "execute_result"
    }
   ],
   "source": [
    "# Quantos registros de pessoas mais velhas que 100 anos?\n",
    "(df[\"Population older than 100 years\"] > 0).sum()"
   ]
  },
  {
   "cell_type": "code",
   "execution_count": 208,
   "id": "5ca72544",
   "metadata": {},
   "outputs": [
    {
     "data": {
      "text/html": [
       "<div>\n",
       "<style scoped>\n",
       "    .dataframe tbody tr th:only-of-type {\n",
       "        vertical-align: middle;\n",
       "    }\n",
       "\n",
       "    .dataframe tbody tr th {\n",
       "        vertical-align: top;\n",
       "    }\n",
       "\n",
       "    .dataframe thead th {\n",
       "        text-align: right;\n",
       "    }\n",
       "</style>\n",
       "<table border=\"1\" class=\"dataframe\">\n",
       "  <thead>\n",
       "    <tr style=\"text-align: right;\">\n",
       "      <th></th>\n",
       "      <th>Country name</th>\n",
       "      <th>Year</th>\n",
       "      <th>Population</th>\n",
       "      <th>Population of children under the age of 1</th>\n",
       "      <th>Population of children under the age of 5</th>\n",
       "      <th>Population of children under the age of 15</th>\n",
       "      <th>Population under the age of 25</th>\n",
       "      <th>Population aged 15 to 64 years</th>\n",
       "      <th>Population older than 15 years</th>\n",
       "      <th>Population older than 18 years</th>\n",
       "      <th>...</th>\n",
       "      <th>Population aged 15 to 19 years</th>\n",
       "      <th>Population aged 20 to 29 years</th>\n",
       "      <th>Population aged 30 to 39 years</th>\n",
       "      <th>Population aged 40 to 49 years</th>\n",
       "      <th>Population aged 50 to 59 years</th>\n",
       "      <th>Population aged 60 to 69 years</th>\n",
       "      <th>Population aged 70 to 79 years</th>\n",
       "      <th>Population aged 80 to 89 years</th>\n",
       "      <th>Population aged 90 to 99 years</th>\n",
       "      <th>Population older than 100 years</th>\n",
       "    </tr>\n",
       "  </thead>\n",
       "  <tbody>\n",
       "    <tr>\n",
       "      <th>18</th>\n",
       "      <td>Afghanistan</td>\n",
       "      <td>1968</td>\n",
       "      <td>10247782</td>\n",
       "      <td>445626.0</td>\n",
       "      <td>1839083</td>\n",
       "      <td>4427898</td>\n",
       "      <td>6356450</td>\n",
       "      <td>5544011</td>\n",
       "      <td>5819883</td>\n",
       "      <td>5205912</td>\n",
       "      <td>...</td>\n",
       "      <td>1006880</td>\n",
       "      <td>1691010</td>\n",
       "      <td>1228223</td>\n",
       "      <td>865410</td>\n",
       "      <td>564802</td>\n",
       "      <td>319201</td>\n",
       "      <td>124092</td>\n",
       "      <td>19660</td>\n",
       "      <td>605</td>\n",
       "      <td>1.0</td>\n",
       "    </tr>\n",
       "    <tr>\n",
       "      <th>19</th>\n",
       "      <td>Afghanistan</td>\n",
       "      <td>1969</td>\n",
       "      <td>10494491</td>\n",
       "      <td>458078.0</td>\n",
       "      <td>1894961</td>\n",
       "      <td>4563995</td>\n",
       "      <td>6525350</td>\n",
       "      <td>5649462</td>\n",
       "      <td>5930495</td>\n",
       "      <td>5298458</td>\n",
       "      <td>...</td>\n",
       "      <td>1022510</td>\n",
       "      <td>1725204</td>\n",
       "      <td>1251304</td>\n",
       "      <td>883917</td>\n",
       "      <td>576137</td>\n",
       "      <td>324386</td>\n",
       "      <td>126130</td>\n",
       "      <td>20268</td>\n",
       "      <td>639</td>\n",
       "      <td>1.0</td>\n",
       "    </tr>\n",
       "    <tr>\n",
       "      <th>20</th>\n",
       "      <td>Afghanistan</td>\n",
       "      <td>1970</td>\n",
       "      <td>10752973</td>\n",
       "      <td>470485.0</td>\n",
       "      <td>1952791</td>\n",
       "      <td>4705422</td>\n",
       "      <td>6700729</td>\n",
       "      <td>5761197</td>\n",
       "      <td>6047550</td>\n",
       "      <td>5396652</td>\n",
       "      <td>...</td>\n",
       "      <td>1047106</td>\n",
       "      <td>1755368</td>\n",
       "      <td>1274479</td>\n",
       "      <td>902653</td>\n",
       "      <td>588007</td>\n",
       "      <td>330016</td>\n",
       "      <td>128348</td>\n",
       "      <td>20897</td>\n",
       "      <td>676</td>\n",
       "      <td>1.0</td>\n",
       "    </tr>\n",
       "    <tr>\n",
       "      <th>21</th>\n",
       "      <td>Afghanistan</td>\n",
       "      <td>1971</td>\n",
       "      <td>11015853</td>\n",
       "      <td>483113.0</td>\n",
       "      <td>2011245</td>\n",
       "      <td>4848646</td>\n",
       "      <td>6878049</td>\n",
       "      <td>5875332</td>\n",
       "      <td>6167206</td>\n",
       "      <td>5497000</td>\n",
       "      <td>...</td>\n",
       "      <td>1077924</td>\n",
       "      <td>1781762</td>\n",
       "      <td>1297423</td>\n",
       "      <td>921039</td>\n",
       "      <td>599944</td>\n",
       "      <td>336054</td>\n",
       "      <td>130782</td>\n",
       "      <td>21560</td>\n",
       "      <td>718</td>\n",
       "      <td>1.0</td>\n",
       "    </tr>\n",
       "    <tr>\n",
       "      <th>22</th>\n",
       "      <td>Afghanistan</td>\n",
       "      <td>1972</td>\n",
       "      <td>11286753</td>\n",
       "      <td>496219.0</td>\n",
       "      <td>2070876</td>\n",
       "      <td>4995574</td>\n",
       "      <td>7060970</td>\n",
       "      <td>5993595</td>\n",
       "      <td>6291178</td>\n",
       "      <td>5601031</td>\n",
       "      <td>...</td>\n",
       "      <td>1109676</td>\n",
       "      <td>1809740</td>\n",
       "      <td>1321272</td>\n",
       "      <td>939466</td>\n",
       "      <td>612071</td>\n",
       "      <td>342463</td>\n",
       "      <td>133460</td>\n",
       "      <td>22270</td>\n",
       "      <td>760</td>\n",
       "      <td>1.0</td>\n",
       "    </tr>\n",
       "    <tr>\n",
       "      <th>...</th>\n",
       "      <td>...</td>\n",
       "      <td>...</td>\n",
       "      <td>...</td>\n",
       "      <td>...</td>\n",
       "      <td>...</td>\n",
       "      <td>...</td>\n",
       "      <td>...</td>\n",
       "      <td>...</td>\n",
       "      <td>...</td>\n",
       "      <td>...</td>\n",
       "      <td>...</td>\n",
       "      <td>...</td>\n",
       "      <td>...</td>\n",
       "      <td>...</td>\n",
       "      <td>...</td>\n",
       "      <td>...</td>\n",
       "      <td>...</td>\n",
       "      <td>...</td>\n",
       "      <td>...</td>\n",
       "      <td>...</td>\n",
       "      <td>...</td>\n",
       "    </tr>\n",
       "    <tr>\n",
       "      <th>18283</th>\n",
       "      <td>Zimbabwe</td>\n",
       "      <td>2017</td>\n",
       "      <td>14751101</td>\n",
       "      <td>464521.0</td>\n",
       "      <td>2287404</td>\n",
       "      <td>6217928</td>\n",
       "      <td>9224369</td>\n",
       "      <td>8056253</td>\n",
       "      <td>8532951</td>\n",
       "      <td>7476399</td>\n",
       "      <td>...</td>\n",
       "      <td>1690993</td>\n",
       "      <td>2422873</td>\n",
       "      <td>2021973</td>\n",
       "      <td>1088878</td>\n",
       "      <td>570769</td>\n",
       "      <td>467775</td>\n",
       "      <td>200927</td>\n",
       "      <td>59789</td>\n",
       "      <td>8974</td>\n",
       "      <td>222.0</td>\n",
       "    </tr>\n",
       "    <tr>\n",
       "      <th>18284</th>\n",
       "      <td>Zimbabwe</td>\n",
       "      <td>2018</td>\n",
       "      <td>15052191</td>\n",
       "      <td>466524.0</td>\n",
       "      <td>2283576</td>\n",
       "      <td>6291632</td>\n",
       "      <td>9385132</td>\n",
       "      <td>8264833</td>\n",
       "      <td>8760331</td>\n",
       "      <td>7689502</td>\n",
       "      <td>...</td>\n",
       "      <td>1732035</td>\n",
       "      <td>2474502</td>\n",
       "      <td>2058928</td>\n",
       "      <td>1155537</td>\n",
       "      <td>585529</td>\n",
       "      <td>476214</td>\n",
       "      <td>208587</td>\n",
       "      <td>59700</td>\n",
       "      <td>9299</td>\n",
       "      <td>228.0</td>\n",
       "    </tr>\n",
       "    <tr>\n",
       "      <th>18285</th>\n",
       "      <td>Zimbabwe</td>\n",
       "      <td>2019</td>\n",
       "      <td>15354606</td>\n",
       "      <td>468844.0</td>\n",
       "      <td>2281740</td>\n",
       "      <td>6367398</td>\n",
       "      <td>9543409</td>\n",
       "      <td>8473475</td>\n",
       "      <td>8986973</td>\n",
       "      <td>7909270</td>\n",
       "      <td>...</td>\n",
       "      <td>1759205</td>\n",
       "      <td>2546398</td>\n",
       "      <td>2085636</td>\n",
       "      <td>1220993</td>\n",
       "      <td>606266</td>\n",
       "      <td>479827</td>\n",
       "      <td>218763</td>\n",
       "      <td>60339</td>\n",
       "      <td>9546</td>\n",
       "      <td>235.0</td>\n",
       "    </tr>\n",
       "    <tr>\n",
       "      <th>18286</th>\n",
       "      <td>Zimbabwe</td>\n",
       "      <td>2020</td>\n",
       "      <td>15669663</td>\n",
       "      <td>470340.0</td>\n",
       "      <td>2287105</td>\n",
       "      <td>6449021</td>\n",
       "      <td>9709135</td>\n",
       "      <td>8691594</td>\n",
       "      <td>9220402</td>\n",
       "      <td>8139472</td>\n",
       "      <td>...</td>\n",
       "      <td>1776240</td>\n",
       "      <td>2640150</td>\n",
       "      <td>2101852</td>\n",
       "      <td>1291333</td>\n",
       "      <td>631541</td>\n",
       "      <td>476507</td>\n",
       "      <td>231604</td>\n",
       "      <td>61546</td>\n",
       "      <td>9629</td>\n",
       "      <td>240.0</td>\n",
       "    </tr>\n",
       "    <tr>\n",
       "      <th>18287</th>\n",
       "      <td>Zimbabwe</td>\n",
       "      <td>2021</td>\n",
       "      <td>15993525</td>\n",
       "      <td>472443.0</td>\n",
       "      <td>2299712</td>\n",
       "      <td>6540282</td>\n",
       "      <td>9882718</td>\n",
       "      <td>8915328</td>\n",
       "      <td>9453006</td>\n",
       "      <td>8371027</td>\n",
       "      <td>...</td>\n",
       "      <td>1787185</td>\n",
       "      <td>2749147</td>\n",
       "      <td>2104434</td>\n",
       "      <td>1371770</td>\n",
       "      <td>658660</td>\n",
       "      <td>468255</td>\n",
       "      <td>241961</td>\n",
       "      <td>62227</td>\n",
       "      <td>9367</td>\n",
       "      <td>237.0</td>\n",
       "    </tr>\n",
       "  </tbody>\n",
       "</table>\n",
       "<p>13523 rows × 24 columns</p>\n",
       "</div>"
      ],
      "text/plain": [
       "      Country name  Year  Population  \\\n",
       "18     Afghanistan  1968    10247782   \n",
       "19     Afghanistan  1969    10494491   \n",
       "20     Afghanistan  1970    10752973   \n",
       "21     Afghanistan  1971    11015853   \n",
       "22     Afghanistan  1972    11286753   \n",
       "...            ...   ...         ...   \n",
       "18283     Zimbabwe  2017    14751101   \n",
       "18284     Zimbabwe  2018    15052191   \n",
       "18285     Zimbabwe  2019    15354606   \n",
       "18286     Zimbabwe  2020    15669663   \n",
       "18287     Zimbabwe  2021    15993525   \n",
       "\n",
       "       Population of children under the age of 1  \\\n",
       "18                                      445626.0   \n",
       "19                                      458078.0   \n",
       "20                                      470485.0   \n",
       "21                                      483113.0   \n",
       "22                                      496219.0   \n",
       "...                                          ...   \n",
       "18283                                   464521.0   \n",
       "18284                                   466524.0   \n",
       "18285                                   468844.0   \n",
       "18286                                   470340.0   \n",
       "18287                                   472443.0   \n",
       "\n",
       "       Population of children under the age of 5  \\\n",
       "18                                       1839083   \n",
       "19                                       1894961   \n",
       "20                                       1952791   \n",
       "21                                       2011245   \n",
       "22                                       2070876   \n",
       "...                                          ...   \n",
       "18283                                    2287404   \n",
       "18284                                    2283576   \n",
       "18285                                    2281740   \n",
       "18286                                    2287105   \n",
       "18287                                    2299712   \n",
       "\n",
       "       Population of children under the age of 15  \\\n",
       "18                                        4427898   \n",
       "19                                        4563995   \n",
       "20                                        4705422   \n",
       "21                                        4848646   \n",
       "22                                        4995574   \n",
       "...                                           ...   \n",
       "18283                                     6217928   \n",
       "18284                                     6291632   \n",
       "18285                                     6367398   \n",
       "18286                                     6449021   \n",
       "18287                                     6540282   \n",
       "\n",
       "       Population under the age of 25  Population aged 15 to 64 years  \\\n",
       "18                            6356450                         5544011   \n",
       "19                            6525350                         5649462   \n",
       "20                            6700729                         5761197   \n",
       "21                            6878049                         5875332   \n",
       "22                            7060970                         5993595   \n",
       "...                               ...                             ...   \n",
       "18283                         9224369                         8056253   \n",
       "18284                         9385132                         8264833   \n",
       "18285                         9543409                         8473475   \n",
       "18286                         9709135                         8691594   \n",
       "18287                         9882718                         8915328   \n",
       "\n",
       "       Population older than 15 years  Population older than 18 years  ...  \\\n",
       "18                            5819883                         5205912  ...   \n",
       "19                            5930495                         5298458  ...   \n",
       "20                            6047550                         5396652  ...   \n",
       "21                            6167206                         5497000  ...   \n",
       "22                            6291178                         5601031  ...   \n",
       "...                               ...                             ...  ...   \n",
       "18283                         8532951                         7476399  ...   \n",
       "18284                         8760331                         7689502  ...   \n",
       "18285                         8986973                         7909270  ...   \n",
       "18286                         9220402                         8139472  ...   \n",
       "18287                         9453006                         8371027  ...   \n",
       "\n",
       "       Population aged 15 to 19 years  Population aged 20 to 29 years  \\\n",
       "18                            1006880                         1691010   \n",
       "19                            1022510                         1725204   \n",
       "20                            1047106                         1755368   \n",
       "21                            1077924                         1781762   \n",
       "22                            1109676                         1809740   \n",
       "...                               ...                             ...   \n",
       "18283                         1690993                         2422873   \n",
       "18284                         1732035                         2474502   \n",
       "18285                         1759205                         2546398   \n",
       "18286                         1776240                         2640150   \n",
       "18287                         1787185                         2749147   \n",
       "\n",
       "       Population aged 30 to 39 years  Population aged 40 to 49 years  \\\n",
       "18                            1228223                          865410   \n",
       "19                            1251304                          883917   \n",
       "20                            1274479                          902653   \n",
       "21                            1297423                          921039   \n",
       "22                            1321272                          939466   \n",
       "...                               ...                             ...   \n",
       "18283                         2021973                         1088878   \n",
       "18284                         2058928                         1155537   \n",
       "18285                         2085636                         1220993   \n",
       "18286                         2101852                         1291333   \n",
       "18287                         2104434                         1371770   \n",
       "\n",
       "       Population aged 50 to 59 years  Population aged 60 to 69 years  \\\n",
       "18                             564802                          319201   \n",
       "19                             576137                          324386   \n",
       "20                             588007                          330016   \n",
       "21                             599944                          336054   \n",
       "22                             612071                          342463   \n",
       "...                               ...                             ...   \n",
       "18283                          570769                          467775   \n",
       "18284                          585529                          476214   \n",
       "18285                          606266                          479827   \n",
       "18286                          631541                          476507   \n",
       "18287                          658660                          468255   \n",
       "\n",
       "       Population aged 70 to 79 years  Population aged 80 to 89 years  \\\n",
       "18                             124092                           19660   \n",
       "19                             126130                           20268   \n",
       "20                             128348                           20897   \n",
       "21                             130782                           21560   \n",
       "22                             133460                           22270   \n",
       "...                               ...                             ...   \n",
       "18283                          200927                           59789   \n",
       "18284                          208587                           59700   \n",
       "18285                          218763                           60339   \n",
       "18286                          231604                           61546   \n",
       "18287                          241961                           62227   \n",
       "\n",
       "       Population aged 90 to 99 years  Population older than 100 years  \n",
       "18                                605                              1.0  \n",
       "19                                639                              1.0  \n",
       "20                                676                              1.0  \n",
       "21                                718                              1.0  \n",
       "22                                760                              1.0  \n",
       "...                               ...                              ...  \n",
       "18283                            8974                            222.0  \n",
       "18284                            9299                            228.0  \n",
       "18285                            9546                            235.0  \n",
       "18286                            9629                            240.0  \n",
       "18287                            9367                            237.0  \n",
       "\n",
       "[13523 rows x 24 columns]"
      ]
     },
     "execution_count": 208,
     "metadata": {},
     "output_type": "execute_result"
    }
   ],
   "source": [
    "df[(df[\"Population older than 100 years\"] > 0)]"
   ]
  },
  {
   "cell_type": "code",
   "execution_count": 209,
   "id": "2166f24f",
   "metadata": {},
   "outputs": [
    {
     "data": {
      "text/plain": [
       "Country name\n",
       "Afghanistan       1.471000e+03\n",
       "Africa (UN)       2.260470e+05\n",
       "Albania           6.951000e+03\n",
       "Algeria           7.822000e+03\n",
       "American Samoa    0.000000e+00\n",
       "                      ...     \n",
       "Western Sahara    4.430000e+02\n",
       "World             1.012775e+07\n",
       "Yemen             1.910000e+02\n",
       "Zambia            1.582000e+03\n",
       "Zimbabwe          4.675000e+03\n",
       "Name: Population older than 100 years, Length: 254, dtype: float64"
      ]
     },
     "execution_count": 209,
     "metadata": {},
     "output_type": "execute_result"
    }
   ],
   "source": [
    "# Vamos somar a população (entre anos) com mais de 100 anos por país\n",
    "df.groupby(\"Country name\")[\"Population older than 100 years\"].sum()\n",
    "\n",
    "# 1,47 x 10^3 = 1470"
   ]
  },
  {
   "cell_type": "code",
   "execution_count": 213,
   "id": "32df9a13",
   "metadata": {},
   "outputs": [
    {
     "data": {
      "text/plain": [
       "Country name\n",
       "World                                                          1.012775e+07\n",
       "More developed regions                                         6.908991e+06\n",
       "High-income countries                                          6.790696e+06\n",
       "Asia (UN)                                                      3.810919e+06\n",
       "Less developed regions                                         3.218762e+06\n",
       "Less developed regions, excluding least developed countries    3.111085e+06\n",
       "Europe (UN)                                                    2.875113e+06\n",
       "Less developed regions, excluding China                        2.693543e+06\n",
       "Upper-middle-income countries                                  2.212981e+06\n",
       "Northern America (UN)                                          2.157059e+06\n",
       "United States                                                  1.958609e+06\n",
       "Japan                                                          1.768419e+06\n",
       "Lower-middle-income countries                                  1.034042e+06\n",
       "Latin America and the Caribbean (UN)                           9.471280e+05\n",
       "India                                                          5.286080e+05\n",
       "France                                                         4.615990e+05\n",
       "Thailand                                                       4.566400e+05\n",
       "Mexico                                                         4.430440e+05\n",
       "China                                                          3.830960e+05\n",
       "United Kingdom                                                 3.705080e+05\n",
       "Italy                                                          3.322480e+05\n",
       "Russia                                                         3.260210e+05\n",
       "Germany                                                        3.188140e+05\n",
       "Spain                                                          2.308660e+05\n",
       "Africa (UN)                                                    2.260470e+05\n",
       "Name: Population older than 100 years, dtype: float64"
      ]
     },
     "execution_count": 213,
     "metadata": {},
     "output_type": "execute_result"
    }
   ],
   "source": [
    "df.groupby(\"Country name\")[\"Population older than 100 years\"].sum().sort_values(ascending = False)[0:25]"
   ]
  },
  {
   "cell_type": "code",
   "execution_count": 214,
   "id": "12c95fa3",
   "metadata": {},
   "outputs": [
    {
     "data": {
      "text/html": [
       "<div>\n",
       "<style scoped>\n",
       "    .dataframe tbody tr th:only-of-type {\n",
       "        vertical-align: middle;\n",
       "    }\n",
       "\n",
       "    .dataframe tbody tr th {\n",
       "        vertical-align: top;\n",
       "    }\n",
       "\n",
       "    .dataframe thead th {\n",
       "        text-align: right;\n",
       "    }\n",
       "</style>\n",
       "<table border=\"1\" class=\"dataframe\">\n",
       "  <thead>\n",
       "    <tr style=\"text-align: right;\">\n",
       "      <th></th>\n",
       "      <th>Year</th>\n",
       "      <th>Country name</th>\n",
       "      <th>Population older than 100 years</th>\n",
       "    </tr>\n",
       "  </thead>\n",
       "  <tbody>\n",
       "    <tr>\n",
       "      <th>0</th>\n",
       "      <td>1950</td>\n",
       "      <td>Afghanistan</td>\n",
       "      <td>0.0</td>\n",
       "    </tr>\n",
       "    <tr>\n",
       "      <th>1</th>\n",
       "      <td>1951</td>\n",
       "      <td>Afghanistan</td>\n",
       "      <td>0.0</td>\n",
       "    </tr>\n",
       "    <tr>\n",
       "      <th>2</th>\n",
       "      <td>1952</td>\n",
       "      <td>Afghanistan</td>\n",
       "      <td>0.0</td>\n",
       "    </tr>\n",
       "    <tr>\n",
       "      <th>3</th>\n",
       "      <td>1953</td>\n",
       "      <td>Afghanistan</td>\n",
       "      <td>0.0</td>\n",
       "    </tr>\n",
       "    <tr>\n",
       "      <th>4</th>\n",
       "      <td>1954</td>\n",
       "      <td>Afghanistan</td>\n",
       "      <td>0.0</td>\n",
       "    </tr>\n",
       "  </tbody>\n",
       "</table>\n",
       "</div>"
      ],
      "text/plain": [
       "   Year Country name  Population older than 100 years\n",
       "0  1950  Afghanistan                              0.0\n",
       "1  1951  Afghanistan                              0.0\n",
       "2  1952  Afghanistan                              0.0\n",
       "3  1953  Afghanistan                              0.0\n",
       "4  1954  Afghanistan                              0.0"
      ]
     },
     "execution_count": 214,
     "metadata": {},
     "output_type": "execute_result"
    }
   ],
   "source": [
    "df[[\"Year\", \"Country name\", \"Population older than 100 years\"]].head()"
   ]
  },
  {
   "cell_type": "code",
   "execution_count": 219,
   "id": "3ef9505e",
   "metadata": {},
   "outputs": [
    {
     "data": {
      "text/plain": [
       "Country name  Year\n",
       "Afghanistan   1950      0.0\n",
       "              1951      0.0\n",
       "              1952      0.0\n",
       "              1953      0.0\n",
       "              1954      0.0\n",
       "                      ...  \n",
       "Zimbabwe      2017    222.0\n",
       "              2018    228.0\n",
       "              2019    235.0\n",
       "              2020    240.0\n",
       "              2021    237.0\n",
       "Name: Population older than 100 years, Length: 18288, dtype: float64"
      ]
     },
     "execution_count": 219,
     "metadata": {},
     "output_type": "execute_result"
    }
   ],
   "source": [
    "df.groupby([\"Country name\", \"Year\", ])[\"Population older than 100 years\"].max()"
   ]
  },
  {
   "cell_type": "markdown",
   "id": "f67e7d0e",
   "metadata": {},
   "source": [
    "___"
   ]
  },
  {
   "cell_type": "code",
   "execution_count": 220,
   "id": "e16e65b1",
   "metadata": {},
   "outputs": [
    {
     "name": "stdout",
     "output_type": "stream",
     "text": [
      "<class 'pandas.core.frame.DataFrame'>\n",
      "RangeIndex: 18288 entries, 0 to 18287\n",
      "Data columns (total 24 columns):\n",
      " #   Column                                      Non-Null Count  Dtype  \n",
      "---  ------                                      --------------  -----  \n",
      " 0   Country name                                18288 non-null  object \n",
      " 1   Year                                        18288 non-null  int64  \n",
      " 2   Population                                  18288 non-null  int64  \n",
      " 3   Population of children under the age of 1   18288 non-null  float64\n",
      " 4   Population of children under the age of 5   18288 non-null  int64  \n",
      " 5   Population of children under the age of 15  18288 non-null  int64  \n",
      " 6   Population under the age of 25              18288 non-null  int64  \n",
      " 7   Population aged 15 to 64 years              18288 non-null  int64  \n",
      " 8   Population older than 15 years              18288 non-null  int64  \n",
      " 9   Population older than 18 years              18288 non-null  int64  \n",
      " 10  Population at age 1                         18288 non-null  float64\n",
      " 11  Population aged 1 to 4 years                18288 non-null  float64\n",
      " 12  Population aged 5 to 9 years                18288 non-null  int64  \n",
      " 13  Population aged 10 to 14 years              18288 non-null  int64  \n",
      " 14  Population aged 15 to 19 years              18288 non-null  int64  \n",
      " 15  Population aged 20 to 29 years              18288 non-null  int64  \n",
      " 16  Population aged 30 to 39 years              18288 non-null  int64  \n",
      " 17  Population aged 40 to 49 years              18288 non-null  int64  \n",
      " 18  Population aged 50 to 59 years              18288 non-null  int64  \n",
      " 19  Population aged 60 to 69 years              18288 non-null  int64  \n",
      " 20  Population aged 70 to 79 years              18288 non-null  int64  \n",
      " 21  Population aged 80 to 89 years              18288 non-null  int64  \n",
      " 22  Population aged 90 to 99 years              18288 non-null  int64  \n",
      " 23  Population older than 100 years             18288 non-null  float64\n",
      "dtypes: float64(4), int64(19), object(1)\n",
      "memory usage: 3.3+ MB\n"
     ]
    }
   ],
   "source": [
    "df.info() # informações básicas de cada coluna"
   ]
  },
  {
   "cell_type": "code",
   "execution_count": 221,
   "id": "9397c604",
   "metadata": {},
   "outputs": [
    {
     "data": {
      "text/plain": [
       "(18288, 24)"
      ]
     },
     "execution_count": 221,
     "metadata": {},
     "output_type": "execute_result"
    }
   ],
   "source": [
    "df.shape"
   ]
  },
  {
   "cell_type": "markdown",
   "id": "05277e54",
   "metadata": {},
   "source": [
    "___"
   ]
  },
  {
   "cell_type": "markdown",
   "id": "3beb5dfb",
   "metadata": {},
   "source": [
    "[.plot()](https://pandas.pydata.org/docs/reference/api/pandas.DataFrame.plot.html)"
   ]
  },
  {
   "cell_type": "markdown",
   "id": "e081d688",
   "metadata": {},
   "source": [
    "Com o comando \".plot\" do pandas (que funciona com a biblioteca matplotlib), podemos visualizar graficamente as relações que queremos estudar!"
   ]
  },
  {
   "cell_type": "code",
   "execution_count": 228,
   "id": "54e6a8b0",
   "metadata": {},
   "outputs": [
    {
     "data": {
      "text/plain": [
       "<AxesSubplot: title={'center': 'População maior de 100 anos ao longo do tempo no Brasil'}>"
      ]
     },
     "execution_count": 228,
     "metadata": {},
     "output_type": "execute_result"
    },
    {
     "data": {
      "image/png": "[encoded data removed]",
      "text/plain": [
       "<Figure size 432x288 with 1 Axes>"
      ]
     },
     "metadata": {
      "needs_background": "light"
     },
     "output_type": "display_data"
    }
   ],
   "source": [
    "# por padrão, o tipo de plot do pandas é um gráfico de linhas\n",
    "df[df[\"Country name\"] == \"Brazil\"][\"Population older than 100 years\"].plot(\n",
    "    title = \"População maior de 100 anos ao longo do tempo no Brasil\"\n",
    ")"
   ]
  },
  {
   "cell_type": "code",
   "execution_count": 232,
   "id": "bbc10f7b",
   "metadata": {},
   "outputs": [
    {
     "data": {
      "text/plain": [
       "<AxesSubplot: xlabel='Year'>"
      ]
     },
     "execution_count": 232,
     "metadata": {},
     "output_type": "execute_result"
    },
    {
     "data": {
      "image/png": "[encoded data removed]",
      "text/plain": [
       "<Figure size 432x288 with 1 Axes>"
      ]
     },
     "metadata": {
      "needs_background": "light"
     },
     "output_type": "display_data"
    }
   ],
   "source": [
    "df[df[\"Country name\"] == \"Brazil\"].groupby(\"Year\")[\"Population older than 100 years\"].mean().plot()"
   ]
  },
  {
   "cell_type": "code",
   "execution_count": 235,
   "id": "8ebac732",
   "metadata": {},
   "outputs": [
    {
     "data": {
      "text/html": [
       "<div>\n",
       "<style scoped>\n",
       "    .dataframe tbody tr th:only-of-type {\n",
       "        vertical-align: middle;\n",
       "    }\n",
       "\n",
       "    .dataframe tbody tr th {\n",
       "        vertical-align: top;\n",
       "    }\n",
       "\n",
       "    .dataframe thead th {\n",
       "        text-align: right;\n",
       "    }\n",
       "</style>\n",
       "<table border=\"1\" class=\"dataframe\">\n",
       "  <thead>\n",
       "    <tr style=\"text-align: right;\">\n",
       "      <th></th>\n",
       "      <th>Country name</th>\n",
       "      <th>Year</th>\n",
       "      <th>Population</th>\n",
       "      <th>Population of children under the age of 1</th>\n",
       "      <th>Population of children under the age of 5</th>\n",
       "      <th>Population of children under the age of 15</th>\n",
       "      <th>Population under the age of 25</th>\n",
       "      <th>Population aged 15 to 64 years</th>\n",
       "      <th>Population older than 15 years</th>\n",
       "      <th>Population older than 18 years</th>\n",
       "      <th>...</th>\n",
       "      <th>Population aged 15 to 19 years</th>\n",
       "      <th>Population aged 20 to 29 years</th>\n",
       "      <th>Population aged 30 to 39 years</th>\n",
       "      <th>Population aged 40 to 49 years</th>\n",
       "      <th>Population aged 50 to 59 years</th>\n",
       "      <th>Population aged 60 to 69 years</th>\n",
       "      <th>Population aged 70 to 79 years</th>\n",
       "      <th>Population aged 80 to 89 years</th>\n",
       "      <th>Population aged 90 to 99 years</th>\n",
       "      <th>Population older than 100 years</th>\n",
       "    </tr>\n",
       "  </thead>\n",
       "  <tbody>\n",
       "    <tr>\n",
       "      <th>0</th>\n",
       "      <td>Afghanistan</td>\n",
       "      <td>1950</td>\n",
       "      <td>7480464</td>\n",
       "      <td>301735.0</td>\n",
       "      <td>1248282</td>\n",
       "      <td>3068855</td>\n",
       "      <td>4494349</td>\n",
       "      <td>4198587</td>\n",
       "      <td>4411609</td>\n",
       "      <td>3946595</td>\n",
       "      <td>...</td>\n",
       "      <td>757113</td>\n",
       "      <td>1241348</td>\n",
       "      <td>909953</td>\n",
       "      <td>661807</td>\n",
       "      <td>467170</td>\n",
       "      <td>271905</td>\n",
       "      <td>92691</td>\n",
       "      <td>9499</td>\n",
       "      <td>123</td>\n",
       "      <td>0.0</td>\n",
       "    </tr>\n",
       "    <tr>\n",
       "      <th>1</th>\n",
       "      <td>Afghanistan</td>\n",
       "      <td>1951</td>\n",
       "      <td>7571542</td>\n",
       "      <td>299368.0</td>\n",
       "      <td>1246857</td>\n",
       "      <td>3105444</td>\n",
       "      <td>4552138</td>\n",
       "      <td>4250002</td>\n",
       "      <td>4466098</td>\n",
       "      <td>3993640</td>\n",
       "      <td>...</td>\n",
       "      <td>768616</td>\n",
       "      <td>1260904</td>\n",
       "      <td>922765</td>\n",
       "      <td>667015</td>\n",
       "      <td>468881</td>\n",
       "      <td>273286</td>\n",
       "      <td>94358</td>\n",
       "      <td>10155</td>\n",
       "      <td>118</td>\n",
       "      <td>0.0</td>\n",
       "    </tr>\n",
       "    <tr>\n",
       "      <th>2</th>\n",
       "      <td>Afghanistan</td>\n",
       "      <td>1952</td>\n",
       "      <td>7667534</td>\n",
       "      <td>305393.0</td>\n",
       "      <td>1248220</td>\n",
       "      <td>3145070</td>\n",
       "      <td>4613604</td>\n",
       "      <td>4303436</td>\n",
       "      <td>4522464</td>\n",
       "      <td>4041439</td>\n",
       "      <td>...</td>\n",
       "      <td>781411</td>\n",
       "      <td>1280288</td>\n",
       "      <td>935638</td>\n",
       "      <td>672491</td>\n",
       "      <td>470898</td>\n",
       "      <td>274852</td>\n",
       "      <td>96026</td>\n",
       "      <td>10721</td>\n",
       "      <td>139</td>\n",
       "      <td>0.0</td>\n",
       "    </tr>\n",
       "    <tr>\n",
       "      <th>3</th>\n",
       "      <td>Afghanistan</td>\n",
       "      <td>1953</td>\n",
       "      <td>7764549</td>\n",
       "      <td>311574.0</td>\n",
       "      <td>1254725</td>\n",
       "      <td>3186382</td>\n",
       "      <td>4676232</td>\n",
       "      <td>4356242</td>\n",
       "      <td>4578167</td>\n",
       "      <td>4088379</td>\n",
       "      <td>...</td>\n",
       "      <td>794308</td>\n",
       "      <td>1298803</td>\n",
       "      <td>948321</td>\n",
       "      <td>678064</td>\n",
       "      <td>472969</td>\n",
       "      <td>276577</td>\n",
       "      <td>97705</td>\n",
       "      <td>11254</td>\n",
       "      <td>166</td>\n",
       "      <td>0.0</td>\n",
       "    </tr>\n",
       "    <tr>\n",
       "      <th>4</th>\n",
       "      <td>Afghanistan</td>\n",
       "      <td>1954</td>\n",
       "      <td>7864289</td>\n",
       "      <td>317584.0</td>\n",
       "      <td>1267817</td>\n",
       "      <td>3231060</td>\n",
       "      <td>4741371</td>\n",
       "      <td>4408474</td>\n",
       "      <td>4633229</td>\n",
       "      <td>4136116</td>\n",
       "      <td>...</td>\n",
       "      <td>806216</td>\n",
       "      <td>1316768</td>\n",
       "      <td>961484</td>\n",
       "      <td>684153</td>\n",
       "      <td>475117</td>\n",
       "      <td>278210</td>\n",
       "      <td>99298</td>\n",
       "      <td>11793</td>\n",
       "      <td>190</td>\n",
       "      <td>0.0</td>\n",
       "    </tr>\n",
       "  </tbody>\n",
       "</table>\n",
       "<p>5 rows × 24 columns</p>\n",
       "</div>"
      ],
      "text/plain": [
       "  Country name  Year  Population  Population of children under the age of 1  \\\n",
       "0  Afghanistan  1950     7480464                                   301735.0   \n",
       "1  Afghanistan  1951     7571542                                   299368.0   \n",
       "2  Afghanistan  1952     7667534                                   305393.0   \n",
       "3  Afghanistan  1953     7764549                                   311574.0   \n",
       "4  Afghanistan  1954     7864289                                   317584.0   \n",
       "\n",
       "   Population of children under the age of 5  \\\n",
       "0                                    1248282   \n",
       "1                                    1246857   \n",
       "2                                    1248220   \n",
       "3                                    1254725   \n",
       "4                                    1267817   \n",
       "\n",
       "   Population of children under the age of 15  Population under the age of 25  \\\n",
       "0                                     3068855                         4494349   \n",
       "1                                     3105444                         4552138   \n",
       "2                                     3145070                         4613604   \n",
       "3                                     3186382                         4676232   \n",
       "4                                     3231060                         4741371   \n",
       "\n",
       "   Population aged 15 to 64 years  Population older than 15 years  \\\n",
       "0                         4198587                         4411609   \n",
       "1                         4250002                         4466098   \n",
       "2                         4303436                         4522464   \n",
       "3                         4356242                         4578167   \n",
       "4                         4408474                         4633229   \n",
       "\n",
       "   Population older than 18 years  ...  Population aged 15 to 19 years  \\\n",
       "0                         3946595  ...                          757113   \n",
       "1                         3993640  ...                          768616   \n",
       "2                         4041439  ...                          781411   \n",
       "3                         4088379  ...                          794308   \n",
       "4                         4136116  ...                          806216   \n",
       "\n",
       "   Population aged 20 to 29 years  Population aged 30 to 39 years  \\\n",
       "0                         1241348                          909953   \n",
       "1                         1260904                          922765   \n",
       "2                         1280288                          935638   \n",
       "3                         1298803                          948321   \n",
       "4                         1316768                          961484   \n",
       "\n",
       "   Population aged 40 to 49 years  Population aged 50 to 59 years  \\\n",
       "0                          661807                          467170   \n",
       "1                          667015                          468881   \n",
       "2                          672491                          470898   \n",
       "3                          678064                          472969   \n",
       "4                          684153                          475117   \n",
       "\n",
       "   Population aged 60 to 69 years  Population aged 70 to 79 years  \\\n",
       "0                          271905                           92691   \n",
       "1                          273286                           94358   \n",
       "2                          274852                           96026   \n",
       "3                          276577                           97705   \n",
       "4                          278210                           99298   \n",
       "\n",
       "   Population aged 80 to 89 years  Population aged 90 to 99 years  \\\n",
       "0                            9499                             123   \n",
       "1                           10155                             118   \n",
       "2                           10721                             139   \n",
       "3                           11254                             166   \n",
       "4                           11793                             190   \n",
       "\n",
       "   Population older than 100 years  \n",
       "0                              0.0  \n",
       "1                              0.0  \n",
       "2                              0.0  \n",
       "3                              0.0  \n",
       "4                              0.0  \n",
       "\n",
       "[5 rows x 24 columns]"
      ]
     },
     "execution_count": 235,
     "metadata": {},
     "output_type": "execute_result"
    }
   ],
   "source": [
    "df.head()"
   ]
  },
  {
   "cell_type": "code",
   "execution_count": 241,
   "id": "32ef0674",
   "metadata": {},
   "outputs": [],
   "source": [
    "import numpy as np"
   ]
  },
  {
   "cell_type": "code",
   "execution_count": 246,
   "id": "79ab6373",
   "metadata": {},
   "outputs": [],
   "source": [
    "df_agrupado = df[df[\"Country name\"].isin([\"Brazil\", \"World\"])].groupby([\"Year\", \"Country name\"])[\"Population older than 100 years\"].mean().unstack()"
   ]
  },
  {
   "cell_type": "code",
   "execution_count": 250,
   "id": "f62fe2cf",
   "metadata": {},
   "outputs": [
    {
     "data": {
      "text/plain": [
       "<AxesSubplot: xlabel='Year'>"
      ]
     },
     "execution_count": 250,
     "metadata": {},
     "output_type": "execute_result"
    },
    {
     "data": {
      "image/png": "[encoded data removed]",
      "text/plain": [
       "<Figure size 432x288 with 1 Axes>"
      ]
     },
     "metadata": {
      "needs_background": "light"
     },
     "output_type": "display_data"
    }
   ],
   "source": [
    "df.groupby(\"Year\")[\"Country name\"].count().plot()"
   ]
  },
  {
   "cell_type": "code",
   "execution_count": 252,
   "id": "faa9f1fa",
   "metadata": {},
   "outputs": [],
   "source": [
    "df_agrupado[\"World\"] = df_agrupado[\"World\"]/250"
   ]
  },
  {
   "cell_type": "code",
   "execution_count": 255,
   "id": "e1548922",
   "metadata": {
    "scrolled": true
   },
   "outputs": [
    {
     "data": {
      "text/plain": [
       "<AxesSubplot: xlabel='Year'>"
      ]
     },
     "execution_count": 255,
     "metadata": {},
     "output_type": "execute_result"
    },
    {
     "data": {
      "image/png": "[encoded data removed]",
      "text/plain": [
       "<Figure size 432x288 with 1 Axes>"
      ]
     },
     "metadata": {
      "needs_background": "light"
     },
     "output_type": "display_data"
    }
   ],
   "source": [
    "df_agrupado.plot()"
   ]
  },
  {
   "cell_type": "code",
   "execution_count": 245,
   "id": "8ea318d0",
   "metadata": {},
   "outputs": [
    {
     "data": {
      "text/plain": [
       "<AxesSubplot: xlabel='Year'>"
      ]
     },
     "execution_count": 245,
     "metadata": {},
     "output_type": "execute_result"
    },
    {
     "data": {
      "image/png": "[encoded data removed]",
      "text/plain": [
       "<Figure size 432x288 with 1 Axes>"
      ]
     },
     "metadata": {
      "needs_background": "light"
     },
     "output_type": "display_data"
    }
   ],
   "source": [
    "# E se quisermos comparar com o resto do mundo?\n",
    "df[df[\"Country name\"].isin([\"Brazil\", \"World\"])].groupby([\"Year\", \"Country name\"])[\"Population older than 100 years\"].mean().unstack().plot()"
   ]
  },
  {
   "cell_type": "markdown",
   "id": "c17b5256",
   "metadata": {},
   "source": [
    "___\n",
    "### EXTRA: matplotlib\n"
   ]
  },
  {
   "cell_type": "markdown",
   "id": "b9bc179d",
   "metadata": {},
   "source": [
    "O matplotlib é uma biblioteca que permite graficar diversos tipos de representações diretamente a partir de arrays. Possui essencialmente todos os tipos de gráficos que estudamos na aula passada, mas com uma sintaxe diferente a do pandas, o que afetará não somente como plotamos as visualizações, mas, também, elementos \"estéticos\" associados a elas (como legendas, eixos e afins). \n",
    "\n",
    "É um pacote de visualização gráfica altamente utilizado em Python, **e que baseia a construção de gráficos em diversas outras bibliotecas**, como seaborn, e o próprio **pandas**. \n",
    "\n",
    "Em vários dos plots que fizemos acima, talvez você tenha notado que o retorno da função .plot é um objeto do tipo \"axes\", **estrutural do matplotlib**. A biblioteca do matplotlib define alguns **elementos básicos** a partir dos quais se estruturam todas as suas funções."
   ]
  },
  {
   "cell_type": "markdown",
   "id": "1903b054",
   "metadata": {},
   "source": [
    "#### Elementos básicos de uma figura com matplotlib"
   ]
  },
  {
   "cell_type": "markdown",
   "id": "0a187e50",
   "metadata": {},
   "source": [
    "[Guia oficial do matplotlib](https://matplotlib.org/stable/tutorials/introductory/quick_start.html)"
   ]
  },
  {
   "cell_type": "markdown",
   "id": "f6473f6b",
   "metadata": {},
   "source": [
    "Na figura abaixo, temos definidos os **elementos básicos** mencionados acima. Eles servirão como parâmetros nas mais variadas funções da biblioteca.\n",
    "\n",
    "<img src=\"https://matplotlib.org/stable/_images/anatomy.png\" alt=\"drawing\" width=\"600\"/>"
   ]
  },
  {
   "cell_type": "markdown",
   "id": "e57b84e1",
   "metadata": {},
   "source": [
    "É essencial que entendamos três outros elementos fundamentais para a melhor utilização da biblioteca matplotlib:\n",
    "\n",
    "**-Figure:** a visualização em si; a imagem que é impressa na tela.\n",
    "\n",
    "**-Axes:** o \"corpo\" do gráfico. Refere-se ao plot em si.\n",
    "\n",
    "**-Axis:** os eixos do plot (eixo-x; eixo-y; eixo-z)."
   ]
  },
  {
   "cell_type": "markdown",
   "id": "90fd7a8e",
   "metadata": {},
   "source": [
    "As visualizações em pandas são construídas a partir dos elementos da biblioteca matplotlib! Isso significa que, para melhor manipular as visualizações, conhecer fundamentos desta biblioteca é fundamental.\n",
    "___"
   ]
  },
  {
   "cell_type": "code",
   "execution_count": 261,
   "id": "73cd816a",
   "metadata": {},
   "outputs": [
    {
     "data": {
      "image/png": "[encoded data removed]",
      "text/plain": [
       "<Figure size 432x288 with 1 Axes>"
      ]
     },
     "metadata": {
      "needs_background": "light"
     },
     "output_type": "display_data"
    }
   ],
   "source": [
    "ax = df_agrupado.plot()\n",
    "ax.set_xlabel(\"Ano\")\n",
    "ax.set_ylabel(\"População acima de 100 anos\")\n",
    "\n",
    "ax.spines[\"right\"].set_visible(False)\n",
    "ax.spines[\"top\"].set_visible(False)"
   ]
  },
  {
   "cell_type": "markdown",
   "id": "d5196166",
   "metadata": {},
   "source": [
    "Uma outra biblioteca: **seaborn**"
   ]
  },
  {
   "cell_type": "markdown",
   "id": "1e9c8a7a",
   "metadata": {},
   "source": [
    "A biblioteca **seaborn** é baseada em **matplotlib**, e se integra, também, facilmanete a **pandas**. É muito utilizada para gerar visualizações estatísticas, principalmente durante **análises exploratórias de dados**, através de uma API de alto nível. \n",
    "\n",
    "Por padrão, a biblioteca já gera visualizações esteticamente bastante agradáveis.\n",
    "\n",
    "**Leituras interessantes**\n",
    "\n",
    "[Artigo científico da biblioteca](https://joss.theoj.org/papers/10.21105/joss.03021)\n",
    "\n",
    "[Guia introdutório da biblioteca](https://seaborn.pydata.org/tutorial/introduction.html)\n",
    "\n",
    "Alguns pontos para se ter em mente (destacados no próprio guia introdutório mencionado acima):\n",
    "\n",
    "*While you can be productive using only seaborn functions, full customization of your graphics will require some knowledge of matplotlib’s concepts and API. One aspect of the learning curve for new users of seaborn will be knowing when dropping down to the matplotlib layer is necessary to achieve a particular customization. On the other hand, users coming from matplotlib will find that much of their knowledge transfers.*\n",
    "\n",
    "A biblioteca **seaborn** distingue entre funções a nível de **axes** e de **figure**. \n",
    "\n",
    "**Axes-level functions:** atuam no objeto *axes* do matplotlib, gerando plots contidos **apenas nos eixos**.\n",
    "\n",
    "**Figure-level functions:** atuam no objeto *Figure* do matplotlib, gerando plots que compreendem **toda uma figura**."
   ]
  },
  {
   "cell_type": "code",
   "execution_count": 262,
   "id": "51a40b0d",
   "metadata": {},
   "outputs": [],
   "source": [
    "import seaborn as sns"
   ]
  },
  {
   "cell_type": "code",
   "execution_count": 263,
   "id": "b9fbd99d",
   "metadata": {},
   "outputs": [
    {
     "data": {
      "text/html": [
       "<div>\n",
       "<style scoped>\n",
       "    .dataframe tbody tr th:only-of-type {\n",
       "        vertical-align: middle;\n",
       "    }\n",
       "\n",
       "    .dataframe tbody tr th {\n",
       "        vertical-align: top;\n",
       "    }\n",
       "\n",
       "    .dataframe thead th {\n",
       "        text-align: right;\n",
       "    }\n",
       "</style>\n",
       "<table border=\"1\" class=\"dataframe\">\n",
       "  <thead>\n",
       "    <tr style=\"text-align: right;\">\n",
       "      <th></th>\n",
       "      <th>Country name</th>\n",
       "      <th>Year</th>\n",
       "      <th>Population</th>\n",
       "      <th>Population of children under the age of 1</th>\n",
       "      <th>Population of children under the age of 5</th>\n",
       "      <th>Population of children under the age of 15</th>\n",
       "      <th>Population under the age of 25</th>\n",
       "      <th>Population aged 15 to 64 years</th>\n",
       "      <th>Population older than 15 years</th>\n",
       "      <th>Population older than 18 years</th>\n",
       "      <th>...</th>\n",
       "      <th>Population aged 15 to 19 years</th>\n",
       "      <th>Population aged 20 to 29 years</th>\n",
       "      <th>Population aged 30 to 39 years</th>\n",
       "      <th>Population aged 40 to 49 years</th>\n",
       "      <th>Population aged 50 to 59 years</th>\n",
       "      <th>Population aged 60 to 69 years</th>\n",
       "      <th>Population aged 70 to 79 years</th>\n",
       "      <th>Population aged 80 to 89 years</th>\n",
       "      <th>Population aged 90 to 99 years</th>\n",
       "      <th>Population older than 100 years</th>\n",
       "    </tr>\n",
       "  </thead>\n",
       "  <tbody>\n",
       "    <tr>\n",
       "      <th>0</th>\n",
       "      <td>Afghanistan</td>\n",
       "      <td>1950</td>\n",
       "      <td>7480464</td>\n",
       "      <td>301735.0</td>\n",
       "      <td>1248282</td>\n",
       "      <td>3068855</td>\n",
       "      <td>4494349</td>\n",
       "      <td>4198587</td>\n",
       "      <td>4411609</td>\n",
       "      <td>3946595</td>\n",
       "      <td>...</td>\n",
       "      <td>757113</td>\n",
       "      <td>1241348</td>\n",
       "      <td>909953</td>\n",
       "      <td>661807</td>\n",
       "      <td>467170</td>\n",
       "      <td>271905</td>\n",
       "      <td>92691</td>\n",
       "      <td>9499</td>\n",
       "      <td>123</td>\n",
       "      <td>0.0</td>\n",
       "    </tr>\n",
       "    <tr>\n",
       "      <th>1</th>\n",
       "      <td>Afghanistan</td>\n",
       "      <td>1951</td>\n",
       "      <td>7571542</td>\n",
       "      <td>299368.0</td>\n",
       "      <td>1246857</td>\n",
       "      <td>3105444</td>\n",
       "      <td>4552138</td>\n",
       "      <td>4250002</td>\n",
       "      <td>4466098</td>\n",
       "      <td>3993640</td>\n",
       "      <td>...</td>\n",
       "      <td>768616</td>\n",
       "      <td>1260904</td>\n",
       "      <td>922765</td>\n",
       "      <td>667015</td>\n",
       "      <td>468881</td>\n",
       "      <td>273286</td>\n",
       "      <td>94358</td>\n",
       "      <td>10155</td>\n",
       "      <td>118</td>\n",
       "      <td>0.0</td>\n",
       "    </tr>\n",
       "    <tr>\n",
       "      <th>2</th>\n",
       "      <td>Afghanistan</td>\n",
       "      <td>1952</td>\n",
       "      <td>7667534</td>\n",
       "      <td>305393.0</td>\n",
       "      <td>1248220</td>\n",
       "      <td>3145070</td>\n",
       "      <td>4613604</td>\n",
       "      <td>4303436</td>\n",
       "      <td>4522464</td>\n",
       "      <td>4041439</td>\n",
       "      <td>...</td>\n",
       "      <td>781411</td>\n",
       "      <td>1280288</td>\n",
       "      <td>935638</td>\n",
       "      <td>672491</td>\n",
       "      <td>470898</td>\n",
       "      <td>274852</td>\n",
       "      <td>96026</td>\n",
       "      <td>10721</td>\n",
       "      <td>139</td>\n",
       "      <td>0.0</td>\n",
       "    </tr>\n",
       "    <tr>\n",
       "      <th>3</th>\n",
       "      <td>Afghanistan</td>\n",
       "      <td>1953</td>\n",
       "      <td>7764549</td>\n",
       "      <td>311574.0</td>\n",
       "      <td>1254725</td>\n",
       "      <td>3186382</td>\n",
       "      <td>4676232</td>\n",
       "      <td>4356242</td>\n",
       "      <td>4578167</td>\n",
       "      <td>4088379</td>\n",
       "      <td>...</td>\n",
       "      <td>794308</td>\n",
       "      <td>1298803</td>\n",
       "      <td>948321</td>\n",
       "      <td>678064</td>\n",
       "      <td>472969</td>\n",
       "      <td>276577</td>\n",
       "      <td>97705</td>\n",
       "      <td>11254</td>\n",
       "      <td>166</td>\n",
       "      <td>0.0</td>\n",
       "    </tr>\n",
       "    <tr>\n",
       "      <th>4</th>\n",
       "      <td>Afghanistan</td>\n",
       "      <td>1954</td>\n",
       "      <td>7864289</td>\n",
       "      <td>317584.0</td>\n",
       "      <td>1267817</td>\n",
       "      <td>3231060</td>\n",
       "      <td>4741371</td>\n",
       "      <td>4408474</td>\n",
       "      <td>4633229</td>\n",
       "      <td>4136116</td>\n",
       "      <td>...</td>\n",
       "      <td>806216</td>\n",
       "      <td>1316768</td>\n",
       "      <td>961484</td>\n",
       "      <td>684153</td>\n",
       "      <td>475117</td>\n",
       "      <td>278210</td>\n",
       "      <td>99298</td>\n",
       "      <td>11793</td>\n",
       "      <td>190</td>\n",
       "      <td>0.0</td>\n",
       "    </tr>\n",
       "  </tbody>\n",
       "</table>\n",
       "<p>5 rows × 24 columns</p>\n",
       "</div>"
      ],
      "text/plain": [
       "  Country name  Year  Population  Population of children under the age of 1  \\\n",
       "0  Afghanistan  1950     7480464                                   301735.0   \n",
       "1  Afghanistan  1951     7571542                                   299368.0   \n",
       "2  Afghanistan  1952     7667534                                   305393.0   \n",
       "3  Afghanistan  1953     7764549                                   311574.0   \n",
       "4  Afghanistan  1954     7864289                                   317584.0   \n",
       "\n",
       "   Population of children under the age of 5  \\\n",
       "0                                    1248282   \n",
       "1                                    1246857   \n",
       "2                                    1248220   \n",
       "3                                    1254725   \n",
       "4                                    1267817   \n",
       "\n",
       "   Population of children under the age of 15  Population under the age of 25  \\\n",
       "0                                     3068855                         4494349   \n",
       "1                                     3105444                         4552138   \n",
       "2                                     3145070                         4613604   \n",
       "3                                     3186382                         4676232   \n",
       "4                                     3231060                         4741371   \n",
       "\n",
       "   Population aged 15 to 64 years  Population older than 15 years  \\\n",
       "0                         4198587                         4411609   \n",
       "1                         4250002                         4466098   \n",
       "2                         4303436                         4522464   \n",
       "3                         4356242                         4578167   \n",
       "4                         4408474                         4633229   \n",
       "\n",
       "   Population older than 18 years  ...  Population aged 15 to 19 years  \\\n",
       "0                         3946595  ...                          757113   \n",
       "1                         3993640  ...                          768616   \n",
       "2                         4041439  ...                          781411   \n",
       "3                         4088379  ...                          794308   \n",
       "4                         4136116  ...                          806216   \n",
       "\n",
       "   Population aged 20 to 29 years  Population aged 30 to 39 years  \\\n",
       "0                         1241348                          909953   \n",
       "1                         1260904                          922765   \n",
       "2                         1280288                          935638   \n",
       "3                         1298803                          948321   \n",
       "4                         1316768                          961484   \n",
       "\n",
       "   Population aged 40 to 49 years  Population aged 50 to 59 years  \\\n",
       "0                          661807                          467170   \n",
       "1                          667015                          468881   \n",
       "2                          672491                          470898   \n",
       "3                          678064                          472969   \n",
       "4                          684153                          475117   \n",
       "\n",
       "   Population aged 60 to 69 years  Population aged 70 to 79 years  \\\n",
       "0                          271905                           92691   \n",
       "1                          273286                           94358   \n",
       "2                          274852                           96026   \n",
       "3                          276577                           97705   \n",
       "4                          278210                           99298   \n",
       "\n",
       "   Population aged 80 to 89 years  Population aged 90 to 99 years  \\\n",
       "0                            9499                             123   \n",
       "1                           10155                             118   \n",
       "2                           10721                             139   \n",
       "3                           11254                             166   \n",
       "4                           11793                             190   \n",
       "\n",
       "   Population older than 100 years  \n",
       "0                              0.0  \n",
       "1                              0.0  \n",
       "2                              0.0  \n",
       "3                              0.0  \n",
       "4                              0.0  \n",
       "\n",
       "[5 rows x 24 columns]"
      ]
     },
     "execution_count": 263,
     "metadata": {},
     "output_type": "execute_result"
    }
   ],
   "source": [
    "df.head()"
   ]
  },
  {
   "cell_type": "code",
   "execution_count": 265,
   "id": "9f215aea",
   "metadata": {},
   "outputs": [
    {
     "data": {
      "text/html": [
       "<div>\n",
       "<style scoped>\n",
       "    .dataframe tbody tr th:only-of-type {\n",
       "        vertical-align: middle;\n",
       "    }\n",
       "\n",
       "    .dataframe tbody tr th {\n",
       "        vertical-align: top;\n",
       "    }\n",
       "\n",
       "    .dataframe thead th {\n",
       "        text-align: right;\n",
       "    }\n",
       "</style>\n",
       "<table border=\"1\" class=\"dataframe\">\n",
       "  <thead>\n",
       "    <tr style=\"text-align: right;\">\n",
       "      <th></th>\n",
       "      <th>Year</th>\n",
       "      <th>Population</th>\n",
       "      <th>Country name</th>\n",
       "    </tr>\n",
       "  </thead>\n",
       "  <tbody>\n",
       "    <tr>\n",
       "      <th>2160</th>\n",
       "      <td>1950</td>\n",
       "      <td>53955360</td>\n",
       "      <td>Brazil</td>\n",
       "    </tr>\n",
       "    <tr>\n",
       "      <th>2161</th>\n",
       "      <td>1951</td>\n",
       "      <td>55591060</td>\n",
       "      <td>Brazil</td>\n",
       "    </tr>\n",
       "    <tr>\n",
       "      <th>2162</th>\n",
       "      <td>1952</td>\n",
       "      <td>57283340</td>\n",
       "      <td>Brazil</td>\n",
       "    </tr>\n",
       "    <tr>\n",
       "      <th>2163</th>\n",
       "      <td>1953</td>\n",
       "      <td>59025680</td>\n",
       "      <td>Brazil</td>\n",
       "    </tr>\n",
       "    <tr>\n",
       "      <th>2164</th>\n",
       "      <td>1954</td>\n",
       "      <td>60827596</td>\n",
       "      <td>Brazil</td>\n",
       "    </tr>\n",
       "  </tbody>\n",
       "</table>\n",
       "</div>"
      ],
      "text/plain": [
       "      Year  Population Country name\n",
       "2160  1950    53955360       Brazil\n",
       "2161  1951    55591060       Brazil\n",
       "2162  1952    57283340       Brazil\n",
       "2163  1953    59025680       Brazil\n",
       "2164  1954    60827596       Brazil"
      ]
     },
     "execution_count": 265,
     "metadata": {},
     "output_type": "execute_result"
    }
   ],
   "source": [
    "df_to_plot = df[df[\"Country name\"].isin([\"Brazil\", \"Spain\"])][[\"Year\", \"Population\", \"Country name\"]]\n",
    "df_to_plot.head()"
   ]
  },
  {
   "cell_type": "code",
   "execution_count": 266,
   "id": "4ff12805",
   "metadata": {},
   "outputs": [
    {
     "data": {
      "text/plain": [
       "<AxesSubplot: xlabel='Year', ylabel='Population'>"
      ]
     },
     "execution_count": 266,
     "metadata": {},
     "output_type": "execute_result"
    },
    {
     "data": {
      "image/png": "[encoded data removed]",
      "text/plain": [
       "<Figure size 432x288 with 1 Axes>"
      ]
     },
     "metadata": {
      "needs_background": "light"
     },
     "output_type": "display_data"
    }
   ],
   "source": [
    "sns.lineplot(data = df_to_plot,\n",
    "             x = \"Year\",\n",
    "             y = \"Population\",\n",
    "             hue = \"Country name\"\n",
    "            )"
   ]
  },
  {
   "cell_type": "markdown",
   "id": "f4d37f5a",
   "metadata": {},
   "source": [
    "Com a biblioteca seaborn, não precisamos agrupar os dados previamente! Basta que saibamos qual o resultado final que queremos, e que os dados estejam no formato apropriado!"
   ]
  },
  {
   "cell_type": "code",
   "execution_count": 268,
   "id": "2aa9e4b9",
   "metadata": {},
   "outputs": [
    {
     "data": {
      "text/plain": [
       "<AxesSubplot: xlabel='Year', ylabel='Population'>"
      ]
     },
     "execution_count": 268,
     "metadata": {},
     "output_type": "execute_result"
    },
    {
     "data": {
      "image/png": "[encoded data removed]",
      "text/plain": [
       "<Figure size 432x288 with 1 Axes>"
      ]
     },
     "metadata": {
      "needs_background": "light"
     },
     "output_type": "display_data"
    }
   ],
   "source": [
    "sns.lineplot(data = df_to_plot,\n",
    "             x = \"Year\",\n",
    "             y = \"Population\"\n",
    "            )"
   ]
  },
  {
   "cell_type": "code",
   "execution_count": 269,
   "id": "9733d456",
   "metadata": {},
   "outputs": [
    {
     "data": {
      "text/plain": [
       "<AxesSubplot: xlabel='Year', ylabel='Population'>"
      ]
     },
     "execution_count": 269,
     "metadata": {},
     "output_type": "execute_result"
    },
    {
     "data": {
      "image/png": "[encoded data removed]",
      "text/plain": [
       "<Figure size 432x288 with 1 Axes>"
      ]
     },
     "metadata": {
      "needs_background": "light"
     },
     "output_type": "display_data"
    }
   ],
   "source": [
    "sns.lineplot(data = df,\n",
    "             x = \"Year\",\n",
    "             y = \"Population\"\n",
    "            )"
   ]
  },
  {
   "cell_type": "markdown",
   "id": "7b20cda4",
   "metadata": {},
   "source": [
    "Por padrão, quando temos mais de uma dimensão disponível não agrupada, o seaborn realiza a média entre todos os grupos (neste caso, cada entrada em 'Country name'). O agrupamento padrão é com a medida de média, e a dispersão é calculada a partir do intervalo de confiança no nível de 95% (consulte mais detalhes na documentação de cada plot!)."
   ]
  },
  {
   "cell_type": "code",
   "execution_count": 270,
   "id": "a2a7b648",
   "metadata": {},
   "outputs": [
    {
     "data": {
      "image/png": "[encoded data removed]",
      "text/plain": [
       "<Figure size 432x288 with 1 Axes>"
      ]
     },
     "metadata": {
      "needs_background": "light"
     },
     "output_type": "display_data"
    }
   ],
   "source": [
    "ax = sns.lineplot(data = df,\n",
    "             x = \"Year\",\n",
    "             y = \"Population\"\n",
    "            )\n",
    "\n",
    "ax.spines[\"top\"].set_visible(False)\n",
    "ax.spines[\"right\"].set_visible(False)"
   ]
  },
  {
   "cell_type": "markdown",
   "id": "8bd22d08",
   "metadata": {},
   "source": [
    "A biblioteca também opera sobre o matplotlib, retornando os mesmos objetos, conforme exemplo acima (axes)."
   ]
  },
  {
   "cell_type": "markdown",
   "id": "26349b63",
   "metadata": {},
   "source": [
    "___"
   ]
  },
  {
   "cell_type": "markdown",
   "id": "7f4ed328",
   "metadata": {},
   "source": [
    "#### Quais os países com as maiores populações no ano mais recente do dataset?"
   ]
  },
  {
   "cell_type": "code",
   "execution_count": 273,
   "id": "53ab85f2",
   "metadata": {},
   "outputs": [
    {
     "data": {
      "text/plain": [
       "2021"
      ]
     },
     "execution_count": 273,
     "metadata": {},
     "output_type": "execute_result"
    }
   ],
   "source": [
    "df[\"Year\"].max() # Encontrando o ano mais recente"
   ]
  },
  {
   "cell_type": "code",
   "execution_count": 274,
   "id": "4fcaefc4",
   "metadata": {},
   "outputs": [
    {
     "data": {
      "text/html": [
       "<div>\n",
       "<style scoped>\n",
       "    .dataframe tbody tr th:only-of-type {\n",
       "        vertical-align: middle;\n",
       "    }\n",
       "\n",
       "    .dataframe tbody tr th {\n",
       "        vertical-align: top;\n",
       "    }\n",
       "\n",
       "    .dataframe thead th {\n",
       "        text-align: right;\n",
       "    }\n",
       "</style>\n",
       "<table border=\"1\" class=\"dataframe\">\n",
       "  <thead>\n",
       "    <tr style=\"text-align: right;\">\n",
       "      <th></th>\n",
       "      <th>Country name</th>\n",
       "      <th>Year</th>\n",
       "      <th>Population</th>\n",
       "      <th>Population of children under the age of 1</th>\n",
       "      <th>Population of children under the age of 5</th>\n",
       "      <th>Population of children under the age of 15</th>\n",
       "      <th>Population under the age of 25</th>\n",
       "      <th>Population aged 15 to 64 years</th>\n",
       "      <th>Population older than 15 years</th>\n",
       "      <th>Population older than 18 years</th>\n",
       "      <th>...</th>\n",
       "      <th>Population aged 15 to 19 years</th>\n",
       "      <th>Population aged 20 to 29 years</th>\n",
       "      <th>Population aged 30 to 39 years</th>\n",
       "      <th>Population aged 40 to 49 years</th>\n",
       "      <th>Population aged 50 to 59 years</th>\n",
       "      <th>Population aged 60 to 69 years</th>\n",
       "      <th>Population aged 70 to 79 years</th>\n",
       "      <th>Population aged 80 to 89 years</th>\n",
       "      <th>Population aged 90 to 99 years</th>\n",
       "      <th>Population older than 100 years</th>\n",
       "    </tr>\n",
       "  </thead>\n",
       "  <tbody>\n",
       "    <tr>\n",
       "      <th>0</th>\n",
       "      <td>Afghanistan</td>\n",
       "      <td>1950</td>\n",
       "      <td>7480464</td>\n",
       "      <td>301735.0</td>\n",
       "      <td>1248282</td>\n",
       "      <td>3068855</td>\n",
       "      <td>4494349</td>\n",
       "      <td>4198587</td>\n",
       "      <td>4411609</td>\n",
       "      <td>3946595</td>\n",
       "      <td>...</td>\n",
       "      <td>757113</td>\n",
       "      <td>1241348</td>\n",
       "      <td>909953</td>\n",
       "      <td>661807</td>\n",
       "      <td>467170</td>\n",
       "      <td>271905</td>\n",
       "      <td>92691</td>\n",
       "      <td>9499</td>\n",
       "      <td>123</td>\n",
       "      <td>0.0</td>\n",
       "    </tr>\n",
       "    <tr>\n",
       "      <th>1</th>\n",
       "      <td>Afghanistan</td>\n",
       "      <td>1951</td>\n",
       "      <td>7571542</td>\n",
       "      <td>299368.0</td>\n",
       "      <td>1246857</td>\n",
       "      <td>3105444</td>\n",
       "      <td>4552138</td>\n",
       "      <td>4250002</td>\n",
       "      <td>4466098</td>\n",
       "      <td>3993640</td>\n",
       "      <td>...</td>\n",
       "      <td>768616</td>\n",
       "      <td>1260904</td>\n",
       "      <td>922765</td>\n",
       "      <td>667015</td>\n",
       "      <td>468881</td>\n",
       "      <td>273286</td>\n",
       "      <td>94358</td>\n",
       "      <td>10155</td>\n",
       "      <td>118</td>\n",
       "      <td>0.0</td>\n",
       "    </tr>\n",
       "    <tr>\n",
       "      <th>2</th>\n",
       "      <td>Afghanistan</td>\n",
       "      <td>1952</td>\n",
       "      <td>7667534</td>\n",
       "      <td>305393.0</td>\n",
       "      <td>1248220</td>\n",
       "      <td>3145070</td>\n",
       "      <td>4613604</td>\n",
       "      <td>4303436</td>\n",
       "      <td>4522464</td>\n",
       "      <td>4041439</td>\n",
       "      <td>...</td>\n",
       "      <td>781411</td>\n",
       "      <td>1280288</td>\n",
       "      <td>935638</td>\n",
       "      <td>672491</td>\n",
       "      <td>470898</td>\n",
       "      <td>274852</td>\n",
       "      <td>96026</td>\n",
       "      <td>10721</td>\n",
       "      <td>139</td>\n",
       "      <td>0.0</td>\n",
       "    </tr>\n",
       "    <tr>\n",
       "      <th>3</th>\n",
       "      <td>Afghanistan</td>\n",
       "      <td>1953</td>\n",
       "      <td>7764549</td>\n",
       "      <td>311574.0</td>\n",
       "      <td>1254725</td>\n",
       "      <td>3186382</td>\n",
       "      <td>4676232</td>\n",
       "      <td>4356242</td>\n",
       "      <td>4578167</td>\n",
       "      <td>4088379</td>\n",
       "      <td>...</td>\n",
       "      <td>794308</td>\n",
       "      <td>1298803</td>\n",
       "      <td>948321</td>\n",
       "      <td>678064</td>\n",
       "      <td>472969</td>\n",
       "      <td>276577</td>\n",
       "      <td>97705</td>\n",
       "      <td>11254</td>\n",
       "      <td>166</td>\n",
       "      <td>0.0</td>\n",
       "    </tr>\n",
       "    <tr>\n",
       "      <th>4</th>\n",
       "      <td>Afghanistan</td>\n",
       "      <td>1954</td>\n",
       "      <td>7864289</td>\n",
       "      <td>317584.0</td>\n",
       "      <td>1267817</td>\n",
       "      <td>3231060</td>\n",
       "      <td>4741371</td>\n",
       "      <td>4408474</td>\n",
       "      <td>4633229</td>\n",
       "      <td>4136116</td>\n",
       "      <td>...</td>\n",
       "      <td>806216</td>\n",
       "      <td>1316768</td>\n",
       "      <td>961484</td>\n",
       "      <td>684153</td>\n",
       "      <td>475117</td>\n",
       "      <td>278210</td>\n",
       "      <td>99298</td>\n",
       "      <td>11793</td>\n",
       "      <td>190</td>\n",
       "      <td>0.0</td>\n",
       "    </tr>\n",
       "  </tbody>\n",
       "</table>\n",
       "<p>5 rows × 24 columns</p>\n",
       "</div>"
      ],
      "text/plain": [
       "  Country name  Year  Population  Population of children under the age of 1  \\\n",
       "0  Afghanistan  1950     7480464                                   301735.0   \n",
       "1  Afghanistan  1951     7571542                                   299368.0   \n",
       "2  Afghanistan  1952     7667534                                   305393.0   \n",
       "3  Afghanistan  1953     7764549                                   311574.0   \n",
       "4  Afghanistan  1954     7864289                                   317584.0   \n",
       "\n",
       "   Population of children under the age of 5  \\\n",
       "0                                    1248282   \n",
       "1                                    1246857   \n",
       "2                                    1248220   \n",
       "3                                    1254725   \n",
       "4                                    1267817   \n",
       "\n",
       "   Population of children under the age of 15  Population under the age of 25  \\\n",
       "0                                     3068855                         4494349   \n",
       "1                                     3105444                         4552138   \n",
       "2                                     3145070                         4613604   \n",
       "3                                     3186382                         4676232   \n",
       "4                                     3231060                         4741371   \n",
       "\n",
       "   Population aged 15 to 64 years  Population older than 15 years  \\\n",
       "0                         4198587                         4411609   \n",
       "1                         4250002                         4466098   \n",
       "2                         4303436                         4522464   \n",
       "3                         4356242                         4578167   \n",
       "4                         4408474                         4633229   \n",
       "\n",
       "   Population older than 18 years  ...  Population aged 15 to 19 years  \\\n",
       "0                         3946595  ...                          757113   \n",
       "1                         3993640  ...                          768616   \n",
       "2                         4041439  ...                          781411   \n",
       "3                         4088379  ...                          794308   \n",
       "4                         4136116  ...                          806216   \n",
       "\n",
       "   Population aged 20 to 29 years  Population aged 30 to 39 years  \\\n",
       "0                         1241348                          909953   \n",
       "1                         1260904                          922765   \n",
       "2                         1280288                          935638   \n",
       "3                         1298803                          948321   \n",
       "4                         1316768                          961484   \n",
       "\n",
       "   Population aged 40 to 49 years  Population aged 50 to 59 years  \\\n",
       "0                          661807                          467170   \n",
       "1                          667015                          468881   \n",
       "2                          672491                          470898   \n",
       "3                          678064                          472969   \n",
       "4                          684153                          475117   \n",
       "\n",
       "   Population aged 60 to 69 years  Population aged 70 to 79 years  \\\n",
       "0                          271905                           92691   \n",
       "1                          273286                           94358   \n",
       "2                          274852                           96026   \n",
       "3                          276577                           97705   \n",
       "4                          278210                           99298   \n",
       "\n",
       "   Population aged 80 to 89 years  Population aged 90 to 99 years  \\\n",
       "0                            9499                             123   \n",
       "1                           10155                             118   \n",
       "2                           10721                             139   \n",
       "3                           11254                             166   \n",
       "4                           11793                             190   \n",
       "\n",
       "   Population older than 100 years  \n",
       "0                              0.0  \n",
       "1                              0.0  \n",
       "2                              0.0  \n",
       "3                              0.0  \n",
       "4                              0.0  \n",
       "\n",
       "[5 rows x 24 columns]"
      ]
     },
     "execution_count": 274,
     "metadata": {},
     "output_type": "execute_result"
    }
   ],
   "source": [
    "df.head()"
   ]
  },
  {
   "cell_type": "code",
   "execution_count": 281,
   "id": "c7e3749f",
   "metadata": {},
   "outputs": [
    {
     "data": {
      "text/plain": [
       "<AxesSubplot: ylabel='Country name'>"
      ]
     },
     "execution_count": 281,
     "metadata": {},
     "output_type": "execute_result"
    },
    {
     "data": {
      "image/png": "[encoded data removed]",
      "text/plain": [
       "<Figure size 432x288 with 1 Axes>"
      ]
     },
     "metadata": {
      "needs_background": "light"
     },
     "output_type": "display_data"
    }
   ],
   "source": [
    "df[df[\"Year\"] == df[\"Year\"].max()].groupby(\"Country name\")[\"Population older than 100 years\"].mean().sort_values(ascending = False)[0:10].plot(kind = 'barh')"
   ]
  },
  {
   "cell_type": "code",
   "execution_count": 282,
   "id": "92cd3095",
   "metadata": {},
   "outputs": [
    {
     "data": {
      "text/plain": [
       "Country name\n",
       "China            1425893500\n",
       "India            1407563900\n",
       "United States     336997630\n",
       "Indonesia         273753180\n",
       "Pakistan          231402110\n",
       "Brazil            214326220\n",
       "Nigeria           213401330\n",
       "Bangladesh        169356240\n",
       "Russia            145102750\n",
       "Mexico            126705140\n",
       "Name: Population, dtype: int64"
      ]
     },
     "execution_count": 282,
     "metadata": {},
     "output_type": "execute_result"
    }
   ],
   "source": [
    "df[df[\"Year\"] == 2021].groupby(\"Country name\")[\"Population\"].sum().sort_values(ascending = False)\\\n",
    "    .drop([\"World\", \"Less developed regions\", \"Less developed regions, excluding least developed countries\",\n",
    "          \"Less developed regions, excluding China\", \"Asia (UN)\", \"Lower-middle-income countries\",\n",
    "          \"Upper-middle-income countries\", \"Africa (UN)\", \"More developed regions\", \"High-income countries\",\n",
    "          \"Least developed countries\", \"Europe (UN)\", \"Low-income countries\", \"Latin America and the Caribbean (UN)\",\n",
    "          \"Land-locked developing countries (LLDC)\", \"Northern America (UN)\"])[0:10]"
   ]
  },
  {
   "cell_type": "code",
   "execution_count": 284,
   "id": "0b21bc08",
   "metadata": {},
   "outputs": [
    {
     "data": {
      "text/plain": [
       "<AxesSubplot: title={'center': 'Top 10 países mais populosos em 2021'}, ylabel='Country name'>"
      ]
     },
     "execution_count": 284,
     "metadata": {},
     "output_type": "execute_result"
    },
    {
     "data": {
      "image/png": "[encoded data removed]",
      "text/plain": [
       "<Figure size 432x288 with 1 Axes>"
      ]
     },
     "metadata": {
      "needs_background": "light"
     },
     "output_type": "display_data"
    }
   ],
   "source": [
    "df[df[\"Year\"] == 2021].groupby(\"Country name\")[\"Population\"].sum().sort_values(ascending = False)\\\n",
    "    .drop([\"World\", \"Less developed regions\", \"Less developed regions, excluding least developed countries\",\n",
    "          \"Less developed regions, excluding China\", \"Asia (UN)\", \"Lower-middle-income countries\",\n",
    "          \"Upper-middle-income countries\", \"Africa (UN)\", \"More developed regions\", \"High-income countries\",\n",
    "          \"Least developed countries\", \"Europe (UN)\", \"Low-income countries\", \"Latin America and the Caribbean (UN)\",\n",
    "          \"Land-locked developing countries (LLDC)\", \"Northern America (UN)\"])[0:10].sort_values().plot(kind = 'barh',\n",
    "                                                                                                       title = \"Top 10 países mais populosos em 2021\")"
   ]
  },
  {
   "cell_type": "code",
   "execution_count": 285,
   "id": "581db7c7",
   "metadata": {},
   "outputs": [],
   "source": [
    "import plotly.express as px"
   ]
  },
  {
   "cell_type": "code",
   "execution_count": 289,
   "id": "c280c678",
   "metadata": {},
   "outputs": [
    {
     "data": {
      "application/vnd.plotly.v1+json": {
       "config": {
        "plotlyServerURL": "https://plot.ly"
       },
       "data": [
        {
         "hovertemplate": "Year=%{x}<br>Population=%{y}<extra></extra>",
         "legendgroup": "",
         "line": {
          "color": "#636efa",
          "dash": "solid"
         },
         "marker": {
          "symbol": "circle"
         },
         "mode": "lines",
         "name": "",
         "orientation": "v",
         "showlegend": false,
         "type": "scatter",
         "x": [
          1950,
          1951,
          1952,
          1953,
          1954,
          1955,
          1956,
          1957,
          1958,
          1959,
          1960,
          1961,
          1962,
          1963,
          1964,
          1965,
          1966,
          1967,
          1968,
          1969,
          1970,
          1971,
          1972,
          1973,
          1974,
          1975,
          1976,
          1977,
          1978,
          1979,
          1980,
          1981,
          1982,
          1983,
          1984,
          1985,
          1986,
          1987,
          1988,
          1989,
          1990,
          1991,
          1992,
          1993,
          1994,
          1995,
          1996,
          1997,
          1998,
          1999,
          2000,
          2001,
          2002,
          2003,
          2004,
          2005,
          2006,
          2007,
          2008,
          2009,
          2010,
          2011,
          2012,
          2013,
          2014,
          2015,
          2016,
          2017,
          2018,
          2019,
          2020,
          2021
         ],
         "xaxis": "x",
         "y": [
          53955360,
          55591060,
          57283340,
          59025680,
          60827596,
          62701036,
          64644890,
          66660892,
          68735930,
          70880824,
          73092520,
          75330010,
          77599224,
          79915560,
          82262800,
          84623750,
          86979290,
          89323290,
          91659250,
          94000380,
          96369890,
          98766290,
          101194390,
          103666904,
          106167380,
          108700510,
          111286504,
          113939890,
          116664380,
          119447304,
          122288380,
          125168060,
          128065100,
          130977380,
          133888776,
          136783180,
          139643360,
          142466270,
          145253980,
          148003420,
          150706450,
          153336450,
          155900780,
          158440860,
          160980480,
          163515330,
          166037120,
          168546700,
          171039800,
          173486270,
          175873710,
          178211890,
          180476690,
          182629280,
          184722050,
          186797340,
          188820690,
          190779460,
          192672320,
          194517550,
          196353500,
          198185300,
          199977710,
          201721780,
          203459650,
          205188210,
          206859580,
          208504960,
          210166600,
          211782880,
          213196300,
          214326220
         ],
         "yaxis": "y"
        }
       ],
       "layout": {
        "legend": {
         "tracegroupgap": 0
        },
        "margin": {
         "t": 60
        },
        "template": {
         "data": {
          "bar": [
           {
            "error_x": {
             "color": "#2a3f5f"
            },
            "error_y": {
             "color": "#2a3f5f"
            },
            "marker": {
             "line": {
              "color": "#E5ECF6",
              "width": 0.5
             },
             "pattern": {
              "fillmode": "overlay",
              "size": 10,
              "solidity": 0.2
             }
            },
            "type": "bar"
           }
          ],
          "barpolar": [
           {
            "marker": {
             "line": {
              "color": "#E5ECF6",
              "width": 0.5
             },
             "pattern": {
              "fillmode": "overlay",
              "size": 10,
              "solidity": 0.2
             }
            },
            "type": "barpolar"
           }
          ],
          "carpet": [
           {
            "aaxis": {
             "endlinecolor": "#2a3f5f",
             "gridcolor": "white",
             "linecolor": "white",
             "minorgridcolor": "white",
             "startlinecolor": "#2a3f5f"
            },
            "baxis": {
             "endlinecolor": "#2a3f5f",
             "gridcolor": "white",
             "linecolor": "white",
             "minorgridcolor": "white",
             "startlinecolor": "#2a3f5f"
            },
            "type": "carpet"
           }
          ],
          "choropleth": [
           {
            "colorbar": {
             "outlinewidth": 0,
             "ticks": ""
            },
            "type": "choropleth"
           }
          ],
          "contour": [
           {
            "colorbar": {
             "outlinewidth": 0,
             "ticks": ""
            },
            "colorscale": [
             [
              0,
              "#0d0887"
             ],
             [
              0.1111111111111111,
              "#46039f"
             ],
             [
              0.2222222222222222,
              "#7201a8"
             ],
             [
              0.3333333333333333,
              "#9c179e"
             ],
             [
              0.4444444444444444,
              "#bd3786"
             ],
             [
              0.5555555555555556,
              "#d8576b"
             ],
             [
              0.6666666666666666,
              "#ed7953"
             ],
             [
              0.7777777777777778,
              "#fb9f3a"
             ],
             [
              0.8888888888888888,
              "#fdca26"
             ],
             [
              1,
              "#f0f921"
             ]
            ],
            "type": "contour"
           }
          ],
          "contourcarpet": [
           {
            "colorbar": {
             "outlinewidth": 0,
             "ticks": ""
            },
            "type": "contourcarpet"
           }
          ],
          "heatmap": [
           {
            "colorbar": {
             "outlinewidth": 0,
             "ticks": ""
            },
            "colorscale": [
             [
              0,
              "#0d0887"
             ],
             [
              0.1111111111111111,
              "#46039f"
             ],
             [
              0.2222222222222222,
              "#7201a8"
             ],
             [
              0.3333333333333333,
              "#9c179e"
             ],
             [
              0.4444444444444444,
              "#bd3786"
             ],
             [
              0.5555555555555556,
              "#d8576b"
             ],
             [
              0.6666666666666666,
              "#ed7953"
             ],
             [
              0.7777777777777778,
              "#fb9f3a"
             ],
             [
              0.8888888888888888,
              "#fdca26"
             ],
             [
              1,
              "#f0f921"
             ]
            ],
            "type": "heatmap"
           }
          ],
          "heatmapgl": [
           {
            "colorbar": {
             "outlinewidth": 0,
             "ticks": ""
            },
            "colorscale": [
             [
              0,
              "#0d0887"
             ],
             [
              0.1111111111111111,
              "#46039f"
             ],
             [
              0.2222222222222222,
              "#7201a8"
             ],
             [
              0.3333333333333333,
              "#9c179e"
             ],
             [
              0.4444444444444444,
              "#bd3786"
             ],
             [
              0.5555555555555556,
              "#d8576b"
             ],
             [
              0.6666666666666666,
              "#ed7953"
             ],
             [
              0.7777777777777778,
              "#fb9f3a"
             ],
             [
              0.8888888888888888,
              "#fdca26"
             ],
             [
              1,
              "#f0f921"
             ]
            ],
            "type": "heatmapgl"
           }
          ],
          "histogram": [
           {
            "marker": {
             "pattern": {
              "fillmode": "overlay",
              "size": 10,
              "solidity": 0.2
             }
            },
            "type": "histogram"
           }
          ],
          "histogram2d": [
           {
            "colorbar": {
             "outlinewidth": 0,
             "ticks": ""
            },
            "colorscale": [
             [
              0,
              "#0d0887"
             ],
             [
              0.1111111111111111,
              "#46039f"
             ],
             [
              0.2222222222222222,
              "#7201a8"
             ],
             [
              0.3333333333333333,
              "#9c179e"
             ],
             [
              0.4444444444444444,
              "#bd3786"
             ],
             [
              0.5555555555555556,
              "#d8576b"
             ],
             [
              0.6666666666666666,
              "#ed7953"
             ],
             [
              0.7777777777777778,
              "#fb9f3a"
             ],
             [
              0.8888888888888888,
              "#fdca26"
             ],
             [
              1,
              "#f0f921"
             ]
            ],
            "type": "histogram2d"
           }
          ],
          "histogram2dcontour": [
           {
            "colorbar": {
             "outlinewidth": 0,
             "ticks": ""
            },
            "colorscale": [
             [
              0,
              "#0d0887"
             ],
             [
              0.1111111111111111,
              "#46039f"
             ],
             [
              0.2222222222222222,
              "#7201a8"
             ],
             [
              0.3333333333333333,
              "#9c179e"
             ],
             [
              0.4444444444444444,
              "#bd3786"
             ],
             [
              0.5555555555555556,
              "#d8576b"
             ],
             [
              0.6666666666666666,
              "#ed7953"
             ],
             [
              0.7777777777777778,
              "#fb9f3a"
             ],
             [
              0.8888888888888888,
              "#fdca26"
             ],
             [
              1,
              "#f0f921"
             ]
            ],
            "type": "histogram2dcontour"
           }
          ],
          "mesh3d": [
           {
            "colorbar": {
             "outlinewidth": 0,
             "ticks": ""
            },
            "type": "mesh3d"
           }
          ],
          "parcoords": [
           {
            "line": {
             "colorbar": {
              "outlinewidth": 0,
              "ticks": ""
             }
            },
            "type": "parcoords"
           }
          ],
          "pie": [
           {
            "automargin": true,
            "type": "pie"
           }
          ],
          "scatter": [
           {
            "fillpattern": {
             "fillmode": "overlay",
             "size": 10,
             "solidity": 0.2
            },
            "type": "scatter"
           }
          ],
          "scatter3d": [
           {
            "line": {
             "colorbar": {
              "outlinewidth": 0,
              "ticks": ""
             }
            },
            "marker": {
             "colorbar": {
              "outlinewidth": 0,
              "ticks": ""
             }
            },
            "type": "scatter3d"
           }
          ],
          "scattercarpet": [
           {
            "marker": {
             "colorbar": {
              "outlinewidth": 0,
              "ticks": ""
             }
            },
            "type": "scattercarpet"
           }
          ],
          "scattergeo": [
           {
            "marker": {
             "colorbar": {
              "outlinewidth": 0,
              "ticks": ""
             }
            },
            "type": "scattergeo"
           }
          ],
          "scattergl": [
           {
            "marker": {
             "colorbar": {
              "outlinewidth": 0,
              "ticks": ""
             }
            },
            "type": "scattergl"
           }
          ],
          "scattermapbox": [
           {
            "marker": {
             "colorbar": {
              "outlinewidth": 0,
              "ticks": ""
             }
            },
            "type": "scattermapbox"
           }
          ],
          "scatterpolar": [
           {
            "marker": {
             "colorbar": {
              "outlinewidth": 0,
              "ticks": ""
             }
            },
            "type": "scatterpolar"
           }
          ],
          "scatterpolargl": [
           {
            "marker": {
             "colorbar": {
              "outlinewidth": 0,
              "ticks": ""
             }
            },
            "type": "scatterpolargl"
           }
          ],
          "scatterternary": [
           {
            "marker": {
             "colorbar": {
              "outlinewidth": 0,
              "ticks": ""
             }
            },
            "type": "scatterternary"
           }
          ],
          "surface": [
           {
            "colorbar": {
             "outlinewidth": 0,
             "ticks": ""
            },
            "colorscale": [
             [
              0,
              "#0d0887"
             ],
             [
              0.1111111111111111,
              "#46039f"
             ],
             [
              0.2222222222222222,
              "#7201a8"
             ],
             [
              0.3333333333333333,
              "#9c179e"
             ],
             [
              0.4444444444444444,
              "#bd3786"
             ],
             [
              0.5555555555555556,
              "#d8576b"
             ],
             [
              0.6666666666666666,
              "#ed7953"
             ],
             [
              0.7777777777777778,
              "#fb9f3a"
             ],
             [
              0.8888888888888888,
              "#fdca26"
             ],
             [
              1,
              "#f0f921"
             ]
            ],
            "type": "surface"
           }
          ],
          "table": [
           {
            "cells": {
             "fill": {
              "color": "#EBF0F8"
             },
             "line": {
              "color": "white"
             }
            },
            "header": {
             "fill": {
              "color": "#C8D4E3"
             },
             "line": {
              "color": "white"
             }
            },
            "type": "table"
           }
          ]
         },
         "layout": {
          "annotationdefaults": {
           "arrowcolor": "#2a3f5f",
           "arrowhead": 0,
           "arrowwidth": 1
          },
          "autotypenumbers": "strict",
          "coloraxis": {
           "colorbar": {
            "outlinewidth": 0,
            "ticks": ""
           }
          },
          "colorscale": {
           "diverging": [
            [
             0,
             "#8e0152"
            ],
            [
             0.1,
             "#c51b7d"
            ],
            [
             0.2,
             "#de77ae"
            ],
            [
             0.3,
             "#f1b6da"
            ],
            [
             0.4,
             "#fde0ef"
            ],
            [
             0.5,
             "#f7f7f7"
            ],
            [
             0.6,
             "#e6f5d0"
            ],
            [
             0.7,
             "#b8e186"
            ],
            [
             0.8,
             "#7fbc41"
            ],
            [
             0.9,
             "#4d9221"
            ],
            [
             1,
             "#276419"
            ]
           ],
           "sequential": [
            [
             0,
             "#0d0887"
            ],
            [
             0.1111111111111111,
             "#46039f"
            ],
            [
             0.2222222222222222,
             "#7201a8"
            ],
            [
             0.3333333333333333,
             "#9c179e"
            ],
            [
             0.4444444444444444,
             "#bd3786"
            ],
            [
             0.5555555555555556,
             "#d8576b"
            ],
            [
             0.6666666666666666,
             "#ed7953"
            ],
            [
             0.7777777777777778,
             "#fb9f3a"
            ],
            [
             0.8888888888888888,
             "#fdca26"
            ],
            [
             1,
             "#f0f921"
            ]
           ],
           "sequentialminus": [
            [
             0,
             "#0d0887"
            ],
            [
             0.1111111111111111,
             "#46039f"
            ],
            [
             0.2222222222222222,
             "#7201a8"
            ],
            [
             0.3333333333333333,
             "#9c179e"
            ],
            [
             0.4444444444444444,
             "#bd3786"
            ],
            [
             0.5555555555555556,
             "#d8576b"
            ],
            [
             0.6666666666666666,
             "#ed7953"
            ],
            [
             0.7777777777777778,
             "#fb9f3a"
            ],
            [
             0.8888888888888888,
             "#fdca26"
            ],
            [
             1,
             "#f0f921"
            ]
           ]
          },
          "colorway": [
           "#636efa",
           "#EF553B",
           "#00cc96",
           "#ab63fa",
           "#FFA15A",
           "#19d3f3",
           "#FF6692",
           "#B6E880",
           "#FF97FF",
           "#FECB52"
          ],
          "font": {
           "color": "#2a3f5f"
          },
          "geo": {
           "bgcolor": "white",
           "lakecolor": "white",
           "landcolor": "#E5ECF6",
           "showlakes": true,
           "showland": true,
           "subunitcolor": "white"
          },
          "hoverlabel": {
           "align": "left"
          },
          "hovermode": "closest",
          "mapbox": {
           "style": "light"
          },
          "paper_bgcolor": "white",
          "plot_bgcolor": "#E5ECF6",
          "polar": {
           "angularaxis": {
            "gridcolor": "white",
            "linecolor": "white",
            "ticks": ""
           },
           "bgcolor": "#E5ECF6",
           "radialaxis": {
            "gridcolor": "white",
            "linecolor": "white",
            "ticks": ""
           }
          },
          "scene": {
           "xaxis": {
            "backgroundcolor": "#E5ECF6",
            "gridcolor": "white",
            "gridwidth": 2,
            "linecolor": "white",
            "showbackground": true,
            "ticks": "",
            "zerolinecolor": "white"
           },
           "yaxis": {
            "backgroundcolor": "#E5ECF6",
            "gridcolor": "white",
            "gridwidth": 2,
            "linecolor": "white",
            "showbackground": true,
            "ticks": "",
            "zerolinecolor": "white"
           },
           "zaxis": {
            "backgroundcolor": "#E5ECF6",
            "gridcolor": "white",
            "gridwidth": 2,
            "linecolor": "white",
            "showbackground": true,
            "ticks": "",
            "zerolinecolor": "white"
           }
          },
          "shapedefaults": {
           "line": {
            "color": "#2a3f5f"
           }
          },
          "ternary": {
           "aaxis": {
            "gridcolor": "white",
            "linecolor": "white",
            "ticks": ""
           },
           "baxis": {
            "gridcolor": "white",
            "linecolor": "white",
            "ticks": ""
           },
           "bgcolor": "#E5ECF6",
           "caxis": {
            "gridcolor": "white",
            "linecolor": "white",
            "ticks": ""
           }
          },
          "title": {
           "x": 0.05
          },
          "xaxis": {
           "automargin": true,
           "gridcolor": "white",
           "linecolor": "white",
           "ticks": "",
           "title": {
            "standoff": 15
           },
           "zerolinecolor": "white",
           "zerolinewidth": 2
          },
          "yaxis": {
           "automargin": true,
           "gridcolor": "white",
           "linecolor": "white",
           "ticks": "",
           "title": {
            "standoff": 15
           },
           "zerolinecolor": "white",
           "zerolinewidth": 2
          }
         }
        },
        "xaxis": {
         "anchor": "y",
         "domain": [
          0,
          1
         ],
         "title": {
          "text": "Year"
         }
        },
        "yaxis": {
         "anchor": "x",
         "domain": [
          0,
          1
         ],
         "title": {
          "text": "Population"
         }
        }
       }
      },
      "text/html": [
       "<div>                            <div id=\"54518c53-24ce-42ef-9782-2bd208f07df4\" class=\"plotly-graph-div\" style=\"height:525px; width:100%;\"></div>            <script type=\"text/javascript\">                require([\"plotly\"], function(Plotly) {                    window.PLOTLYENV=window.PLOTLYENV || {};                                    if (document.getElementById(\"54518c53-24ce-42ef-9782-2bd208f07df4\")) {                    Plotly.newPlot(                        \"54518c53-24ce-42ef-9782-2bd208f07df4\",                        [{\"hovertemplate\":\"Year=%{x}<br>Population=%{y}<extra></extra>\",\"legendgroup\":\"\",\"line\":{\"color\":\"#636efa\",\"dash\":\"solid\"},\"marker\":{\"symbol\":\"circle\"},\"mode\":\"lines\",\"name\":\"\",\"orientation\":\"v\",\"showlegend\":false,\"x\":[1950,1951,1952,1953,1954,1955,1956,1957,1958,1959,1960,1961,1962,1963,1964,1965,1966,1967,1968,1969,1970,1971,1972,1973,1974,1975,1976,1977,1978,1979,1980,1981,1982,1983,1984,1985,1986,1987,1988,1989,1990,1991,1992,1993,1994,1995,1996,1997,1998,1999,2000,2001,2002,2003,2004,2005,2006,2007,2008,2009,2010,2011,2012,2013,2014,2015,2016,2017,2018,2019,2020,2021],\"xaxis\":\"x\",\"y\":[53955360,55591060,57283340,59025680,60827596,62701036,64644890,66660892,68735930,70880824,73092520,75330010,77599224,79915560,82262800,84623750,86979290,89323290,91659250,94000380,96369890,98766290,101194390,103666904,106167380,108700510,111286504,113939890,116664380,119447304,122288380,125168060,128065100,130977380,133888776,136783180,139643360,142466270,145253980,148003420,150706450,153336450,155900780,158440860,160980480,163515330,166037120,168546700,171039800,173486270,175873710,178211890,180476690,182629280,184722050,186797340,188820690,190779460,192672320,194517550,196353500,198185300,199977710,201721780,203459650,205188210,206859580,208504960,210166600,211782880,213196300,214326220],\"yaxis\":\"y\",\"type\":\"scatter\"}],                        {\"template\":{\"data\":{\"histogram2dcontour\":[{\"type\":\"histogram2dcontour\",\"colorbar\":{\"outlinewidth\":0,\"ticks\":\"\"},\"colorscale\":[[0.0,\"#0d0887\"],[0.1111111111111111,\"#46039f\"],[0.2222222222222222,\"#7201a8\"],[0.3333333333333333,\"#9c179e\"],[0.4444444444444444,\"#bd3786\"],[0.5555555555555556,\"#d8576b\"],[0.6666666666666666,\"#ed7953\"],[0.7777777777777778,\"#fb9f3a\"],[0.8888888888888888,\"#fdca26\"],[1.0,\"#f0f921\"]]}],\"choropleth\":[{\"type\":\"choropleth\",\"colorbar\":{\"outlinewidth\":0,\"ticks\":\"\"}}],\"histogram2d\":[{\"type\":\"histogram2d\",\"colorbar\":{\"outlinewidth\":0,\"ticks\":\"\"},\"colorscale\":[[0.0,\"#0d0887\"],[0.1111111111111111,\"#46039f\"],[0.2222222222222222,\"#7201a8\"],[0.3333333333333333,\"#9c179e\"],[0.4444444444444444,\"#bd3786\"],[0.5555555555555556,\"#d8576b\"],[0.6666666666666666,\"#ed7953\"],[0.7777777777777778,\"#fb9f3a\"],[0.8888888888888888,\"#fdca26\"],[1.0,\"#f0f921\"]]}],\"heatmap\":[{\"type\":\"heatmap\",\"colorbar\":{\"outlinewidth\":0,\"ticks\":\"\"},\"colorscale\":[[0.0,\"#0d0887\"],[0.1111111111111111,\"#46039f\"],[0.2222222222222222,\"#7201a8\"],[0.3333333333333333,\"#9c179e\"],[0.4444444444444444,\"#bd3786\"],[0.5555555555555556,\"#d8576b\"],[0.6666666666666666,\"#ed7953\"],[0.7777777777777778,\"#fb9f3a\"],[0.8888888888888888,\"#fdca26\"],[1.0,\"#f0f921\"]]}],\"heatmapgl\":[{\"type\":\"heatmapgl\",\"colorbar\":{\"outlinewidth\":0,\"ticks\":\"\"},\"colorscale\":[[0.0,\"#0d0887\"],[0.1111111111111111,\"#46039f\"],[0.2222222222222222,\"#7201a8\"],[0.3333333333333333,\"#9c179e\"],[0.4444444444444444,\"#bd3786\"],[0.5555555555555556,\"#d8576b\"],[0.6666666666666666,\"#ed7953\"],[0.7777777777777778,\"#fb9f3a\"],[0.8888888888888888,\"#fdca26\"],[1.0,\"#f0f921\"]]}],\"contourcarpet\":[{\"type\":\"contourcarpet\",\"colorbar\":{\"outlinewidth\":0,\"ticks\":\"\"}}],\"contour\":[{\"type\":\"contour\",\"colorbar\":{\"outlinewidth\":0,\"ticks\":\"\"},\"colorscale\":[[0.0,\"#0d0887\"],[0.1111111111111111,\"#46039f\"],[0.2222222222222222,\"#7201a8\"],[0.3333333333333333,\"#9c179e\"],[0.4444444444444444,\"#bd3786\"],[0.5555555555555556,\"#d8576b\"],[0.6666666666666666,\"#ed7953\"],[0.7777777777777778,\"#fb9f3a\"],[0.8888888888888888,\"#fdca26\"],[1.0,\"#f0f921\"]]}],\"surface\":[{\"type\":\"surface\",\"colorbar\":{\"outlinewidth\":0,\"ticks\":\"\"},\"colorscale\":[[0.0,\"#0d0887\"],[0.1111111111111111,\"#46039f\"],[0.2222222222222222,\"#7201a8\"],[0.3333333333333333,\"#9c179e\"],[0.4444444444444444,\"#bd3786\"],[0.5555555555555556,\"#d8576b\"],[0.6666666666666666,\"#ed7953\"],[0.7777777777777778,\"#fb9f3a\"],[0.8888888888888888,\"#fdca26\"],[1.0,\"#f0f921\"]]}],\"mesh3d\":[{\"type\":\"mesh3d\",\"colorbar\":{\"outlinewidth\":0,\"ticks\":\"\"}}],\"scatter\":[{\"fillpattern\":{\"fillmode\":\"overlay\",\"size\":10,\"solidity\":0.2},\"type\":\"scatter\"}],\"parcoords\":[{\"type\":\"parcoords\",\"line\":{\"colorbar\":{\"outlinewidth\":0,\"ticks\":\"\"}}}],\"scatterpolargl\":[{\"type\":\"scatterpolargl\",\"marker\":{\"colorbar\":{\"outlinewidth\":0,\"ticks\":\"\"}}}],\"bar\":[{\"error_x\":{\"color\":\"#2a3f5f\"},\"error_y\":{\"color\":\"#2a3f5f\"},\"marker\":{\"line\":{\"color\":\"#E5ECF6\",\"width\":0.5},\"pattern\":{\"fillmode\":\"overlay\",\"size\":10,\"solidity\":0.2}},\"type\":\"bar\"}],\"scattergeo\":[{\"type\":\"scattergeo\",\"marker\":{\"colorbar\":{\"outlinewidth\":0,\"ticks\":\"\"}}}],\"scatterpolar\":[{\"type\":\"scatterpolar\",\"marker\":{\"colorbar\":{\"outlinewidth\":0,\"ticks\":\"\"}}}],\"histogram\":[{\"marker\":{\"pattern\":{\"fillmode\":\"overlay\",\"size\":10,\"solidity\":0.2}},\"type\":\"histogram\"}],\"scattergl\":[{\"type\":\"scattergl\",\"marker\":{\"colorbar\":{\"outlinewidth\":0,\"ticks\":\"\"}}}],\"scatter3d\":[{\"type\":\"scatter3d\",\"line\":{\"colorbar\":{\"outlinewidth\":0,\"ticks\":\"\"}},\"marker\":{\"colorbar\":{\"outlinewidth\":0,\"ticks\":\"\"}}}],\"scattermapbox\":[{\"type\":\"scattermapbox\",\"marker\":{\"colorbar\":{\"outlinewidth\":0,\"ticks\":\"\"}}}],\"scatterternary\":[{\"type\":\"scatterternary\",\"marker\":{\"colorbar\":{\"outlinewidth\":0,\"ticks\":\"\"}}}],\"scattercarpet\":[{\"type\":\"scattercarpet\",\"marker\":{\"colorbar\":{\"outlinewidth\":0,\"ticks\":\"\"}}}],\"carpet\":[{\"aaxis\":{\"endlinecolor\":\"#2a3f5f\",\"gridcolor\":\"white\",\"linecolor\":\"white\",\"minorgridcolor\":\"white\",\"startlinecolor\":\"#2a3f5f\"},\"baxis\":{\"endlinecolor\":\"#2a3f5f\",\"gridcolor\":\"white\",\"linecolor\":\"white\",\"minorgridcolor\":\"white\",\"startlinecolor\":\"#2a3f5f\"},\"type\":\"carpet\"}],\"table\":[{\"cells\":{\"fill\":{\"color\":\"#EBF0F8\"},\"line\":{\"color\":\"white\"}},\"header\":{\"fill\":{\"color\":\"#C8D4E3\"},\"line\":{\"color\":\"white\"}},\"type\":\"table\"}],\"barpolar\":[{\"marker\":{\"line\":{\"color\":\"#E5ECF6\",\"width\":0.5},\"pattern\":{\"fillmode\":\"overlay\",\"size\":10,\"solidity\":0.2}},\"type\":\"barpolar\"}],\"pie\":[{\"automargin\":true,\"type\":\"pie\"}]},\"layout\":{\"autotypenumbers\":\"strict\",\"colorway\":[\"#636efa\",\"#EF553B\",\"#00cc96\",\"#ab63fa\",\"#FFA15A\",\"#19d3f3\",\"#FF6692\",\"#B6E880\",\"#FF97FF\",\"#FECB52\"],\"font\":{\"color\":\"#2a3f5f\"},\"hovermode\":\"closest\",\"hoverlabel\":{\"align\":\"left\"},\"paper_bgcolor\":\"white\",\"plot_bgcolor\":\"#E5ECF6\",\"polar\":{\"bgcolor\":\"#E5ECF6\",\"angularaxis\":{\"gridcolor\":\"white\",\"linecolor\":\"white\",\"ticks\":\"\"},\"radialaxis\":{\"gridcolor\":\"white\",\"linecolor\":\"white\",\"ticks\":\"\"}},\"ternary\":{\"bgcolor\":\"#E5ECF6\",\"aaxis\":{\"gridcolor\":\"white\",\"linecolor\":\"white\",\"ticks\":\"\"},\"baxis\":{\"gridcolor\":\"white\",\"linecolor\":\"white\",\"ticks\":\"\"},\"caxis\":{\"gridcolor\":\"white\",\"linecolor\":\"white\",\"ticks\":\"\"}},\"coloraxis\":{\"colorbar\":{\"outlinewidth\":0,\"ticks\":\"\"}},\"colorscale\":{\"sequential\":[[0.0,\"#0d0887\"],[0.1111111111111111,\"#46039f\"],[0.2222222222222222,\"#7201a8\"],[0.3333333333333333,\"#9c179e\"],[0.4444444444444444,\"#bd3786\"],[0.5555555555555556,\"#d8576b\"],[0.6666666666666666,\"#ed7953\"],[0.7777777777777778,\"#fb9f3a\"],[0.8888888888888888,\"#fdca26\"],[1.0,\"#f0f921\"]],\"sequentialminus\":[[0.0,\"#0d0887\"],[0.1111111111111111,\"#46039f\"],[0.2222222222222222,\"#7201a8\"],[0.3333333333333333,\"#9c179e\"],[0.4444444444444444,\"#bd3786\"],[0.5555555555555556,\"#d8576b\"],[0.6666666666666666,\"#ed7953\"],[0.7777777777777778,\"#fb9f3a\"],[0.8888888888888888,\"#fdca26\"],[1.0,\"#f0f921\"]],\"diverging\":[[0,\"#8e0152\"],[0.1,\"#c51b7d\"],[0.2,\"#de77ae\"],[0.3,\"#f1b6da\"],[0.4,\"#fde0ef\"],[0.5,\"#f7f7f7\"],[0.6,\"#e6f5d0\"],[0.7,\"#b8e186\"],[0.8,\"#7fbc41\"],[0.9,\"#4d9221\"],[1,\"#276419\"]]},\"xaxis\":{\"gridcolor\":\"white\",\"linecolor\":\"white\",\"ticks\":\"\",\"title\":{\"standoff\":15},\"zerolinecolor\":\"white\",\"automargin\":true,\"zerolinewidth\":2},\"yaxis\":{\"gridcolor\":\"white\",\"linecolor\":\"white\",\"ticks\":\"\",\"title\":{\"standoff\":15},\"zerolinecolor\":\"white\",\"automargin\":true,\"zerolinewidth\":2},\"scene\":{\"xaxis\":{\"backgroundcolor\":\"#E5ECF6\",\"gridcolor\":\"white\",\"linecolor\":\"white\",\"showbackground\":true,\"ticks\":\"\",\"zerolinecolor\":\"white\",\"gridwidth\":2},\"yaxis\":{\"backgroundcolor\":\"#E5ECF6\",\"gridcolor\":\"white\",\"linecolor\":\"white\",\"showbackground\":true,\"ticks\":\"\",\"zerolinecolor\":\"white\",\"gridwidth\":2},\"zaxis\":{\"backgroundcolor\":\"#E5ECF6\",\"gridcolor\":\"white\",\"linecolor\":\"white\",\"showbackground\":true,\"ticks\":\"\",\"zerolinecolor\":\"white\",\"gridwidth\":2}},\"shapedefaults\":{\"line\":{\"color\":\"#2a3f5f\"}},\"annotationdefaults\":{\"arrowcolor\":\"#2a3f5f\",\"arrowhead\":0,\"arrowwidth\":1},\"geo\":{\"bgcolor\":\"white\",\"landcolor\":\"#E5ECF6\",\"subunitcolor\":\"white\",\"showland\":true,\"showlakes\":true,\"lakecolor\":\"white\"},\"title\":{\"x\":0.05},\"mapbox\":{\"style\":\"light\"}}},\"xaxis\":{\"anchor\":\"y\",\"domain\":[0.0,1.0],\"title\":{\"text\":\"Year\"}},\"yaxis\":{\"anchor\":\"x\",\"domain\":[0.0,1.0],\"title\":{\"text\":\"Population\"}},\"legend\":{\"tracegroupgap\":0},\"margin\":{\"t\":60}},                        {\"responsive\": true}                    ).then(function(){\n",
       "                            \n",
       "var gd = document.getElementById('54518c53-24ce-42ef-9782-2bd208f07df4');\n",
       "var x = new MutationObserver(function (mutations, observer) {{\n",
       "        var display = window.getComputedStyle(gd).display;\n",
       "        if (!display || display === 'none') {{\n",
       "            console.log([gd, 'removed!']);\n",
       "            Plotly.purge(gd);\n",
       "            observer.disconnect();\n",
       "        }}\n",
       "}});\n",
       "\n",
       "// Listen for the removal of the full notebook cells\n",
       "var notebookContainer = gd.closest('#notebook-container');\n",
       "if (notebookContainer) {{\n",
       "    x.observe(notebookContainer, {childList: true});\n",
       "}}\n",
       "\n",
       "// Listen for the clearing of the current output cell\n",
       "var outputEl = gd.closest('.output');\n",
       "if (outputEl) {{\n",
       "    x.observe(outputEl, {childList: true});\n",
       "}}\n",
       "\n",
       "                        })                };                });            </script>        </div>"
      ]
     },
     "metadata": {},
     "output_type": "display_data"
    }
   ],
   "source": [
    "px.line(df[df[\"Country name\"] == \"Brazil\"],\n",
    "       x = \"Year\",\n",
    "       y = \"Population\")"
   ]
  },
  {
   "cell_type": "markdown",
   "id": "1bac0367",
   "metadata": {},
   "source": [
    "#### E o total de população do mundo ao longo das décadas?"
   ]
  },
  {
   "cell_type": "code",
   "execution_count": 304,
   "id": "c1b1d5d1",
   "metadata": {},
   "outputs": [
    {
     "data": {
      "text/plain": [
       "<AxesSubplot: ylabel='Frequency'>"
      ]
     },
     "execution_count": 304,
     "metadata": {},
     "output_type": "execute_result"
    },
    {
     "data": {
      "image/png": "[encoded data removed]",
      "text/plain": [
       "<Figure size 432x288 with 1 Axes>"
      ]
     },
     "metadata": {
      "needs_background": "light"
     },
     "output_type": "display_data"
    }
   ],
   "source": [
    "df[df[\"Year\"].isin([1990])][\"Population\"].plot(kind = 'hist', bins = 100)"
   ]
  },
  {
   "cell_type": "code",
   "execution_count": 306,
   "id": "e4c3cae7",
   "metadata": {},
   "outputs": [
    {
     "data": {
      "text/plain": [
       "Year\n",
       "1990    1.340377e+08\n",
       "2000    1.564489e+08\n",
       "2010    1.791719e+08\n",
       "2020    2.025958e+08\n",
       "Name: Population, dtype: float64"
      ]
     },
     "execution_count": 306,
     "metadata": {},
     "output_type": "execute_result"
    }
   ],
   "source": [
    "df[df[\"Year\"].isin([1990, 2000, 2010, 2020])].groupby(\"Year\")[\"Population\"].mean()"
   ]
  },
  {
   "cell_type": "code",
   "execution_count": 307,
   "id": "6f545680",
   "metadata": {},
   "outputs": [
    {
     "data": {
      "text/plain": [
       "(10.0, 10000000.0)"
      ]
     },
     "execution_count": 307,
     "metadata": {},
     "output_type": "execute_result"
    },
    {
     "data": {
      "image/png": "[encoded data removed]",
      "text/plain": [
       "<Figure size 432x288 with 1 Axes>"
      ]
     },
     "metadata": {
      "needs_background": "light"
     },
     "output_type": "display_data"
    }
   ],
   "source": [
    "ax = sns.histplot(data = df[df[\"Year\"].isin([1990, 2000, 2010, 2020])],\n",
    "                x = \"Population\",\n",
    "                hue = \"Year\",\n",
    "                 kde = True)\n",
    "ax.set_xlim(left = 10, right = 10000000)"
   ]
  },
  {
   "cell_type": "code",
   "execution_count": 301,
   "id": "20b2037f",
   "metadata": {},
   "outputs": [
    {
     "data": {
      "text/plain": [
       "(10.0, 1000000000.0)"
      ]
     },
     "execution_count": 301,
     "metadata": {},
     "output_type": "execute_result"
    },
    {
     "data": {
      "image/png": "[encoded data removed]",
      "text/plain": [
       "<Figure size 432x288 with 1 Axes>"
      ]
     },
     "metadata": {
      "needs_background": "light"
     },
     "output_type": "display_data"
    }
   ],
   "source": [
    "ax = sns.kdeplot(data = df[df[\"Year\"].isin([1990, 2000, 2010, 2020])],\n",
    "                x = \"Population\",\n",
    "                hue = \"Year\")\n",
    "ax.set_xlim(left = 10, right = 1000000000)"
   ]
  },
  {
   "cell_type": "markdown",
   "id": "d815f881",
   "metadata": {},
   "source": [
    "___\n",
    "### Vamos avaliar uma outra base de dados?"
   ]
  },
  {
   "cell_type": "markdown",
   "id": "8de3ff57",
   "metadata": {},
   "source": [
    "[Vamos avaliar dados da base do State of Data Brazil 2022](https://www.kaggle.com/datasets/datahackers/state-of-data-2022)"
   ]
  },
  {
   "cell_type": "code",
   "execution_count": 308,
   "id": "a9912b32",
   "metadata": {},
   "outputs": [],
   "source": [
    "df = pd.read_csv(\"state_of_data_2022.csv\")"
   ]
  },
  {
   "cell_type": "code",
   "execution_count": 309,
   "id": "a2788f86",
   "metadata": {},
   "outputs": [
    {
     "data": {
      "text/html": [
       "<div>\n",
       "<style scoped>\n",
       "    .dataframe tbody tr th:only-of-type {\n",
       "        vertical-align: middle;\n",
       "    }\n",
       "\n",
       "    .dataframe tbody tr th {\n",
       "        vertical-align: top;\n",
       "    }\n",
       "\n",
       "    .dataframe thead th {\n",
       "        text-align: right;\n",
       "    }\n",
       "</style>\n",
       "<table border=\"1\" class=\"dataframe\">\n",
       "  <thead>\n",
       "    <tr style=\"text-align: right;\">\n",
       "      <th></th>\n",
       "      <th>('P0', 'id')</th>\n",
       "      <th>('P1_a ', 'Idade')</th>\n",
       "      <th>('P1_a_1 ', 'Faixa idade')</th>\n",
       "      <th>('P1_b ', 'Genero')</th>\n",
       "      <th>('P1_c ', 'Cor/raca/etnia')</th>\n",
       "      <th>('P1_d ', 'PCD')</th>\n",
       "      <th>('P1_e ', 'experiencia_profissional_prejudicada')</th>\n",
       "      <th>('P1_f ', 'aspectos_prejudicados')</th>\n",
       "      <th>('P1_g ', 'vive_no_brasil')</th>\n",
       "      <th>('P1_i ', 'Estado onde mora')</th>\n",
       "      <th>...</th>\n",
       "      <th>('P8_d_2 ', 'Coletando e limpando os dados que uso para análise e modelagem.')</th>\n",
       "      <th>('P8_d_3 ', 'Entrando em contato com os times de negócio para definição do problema, identificar a solução e apresentação de resultados.')</th>\n",
       "      <th>('P8_d_4 ', 'Desenvolvendo modelos de Machine Learning com o objetivo de colocar em produção em sistemas (produtos de dados).')</th>\n",
       "      <th>('P8_d_5 ', 'Colocando modelos em produção, criando os pipelines de dados, APIs de consumo e monitoramento.')</th>\n",
       "      <th>('P8_d_6 ', 'Cuidando da manutenção de modelos de Machine Learning já em produção, atuando no monitoramento, ajustes e refatoração quando necessário.')</th>\n",
       "      <th>('P8_d_7 ', 'Realizando construções de dashboards em ferramentas de BI como PowerBI, Tableau, Looker, Qlik, etc.')</th>\n",
       "      <th>('P8_d_8 ', 'Utilizando ferramentas avançadas de estatística como SAS, SPSS, Stata etc, para realizar análises.')</th>\n",
       "      <th>('P8_d_9 ', 'Criando e dando manutenção em ETLs, DAGs e automações de pipelines de dados.')</th>\n",
       "      <th>('P8_d_10 ', 'Criando e gerenciando soluções de Feature Store e cultura de MLOps.')</th>\n",
       "      <th>('P8_d_11 ', 'Criando e mantendo a infra que meus modelos e soluções rodam (clusters, servidores, API, containers, etc.)')</th>\n",
       "    </tr>\n",
       "  </thead>\n",
       "  <tbody>\n",
       "    <tr>\n",
       "      <th>0</th>\n",
       "      <td>zzqzz3l9ily8nuo2m7wyzzqzz3w48o96</td>\n",
       "      <td>39.0</td>\n",
       "      <td>35-39</td>\n",
       "      <td>Masculino</td>\n",
       "      <td>Parda</td>\n",
       "      <td>Não</td>\n",
       "      <td>Não acredito que minha experiência profissiona...</td>\n",
       "      <td>NaN</td>\n",
       "      <td>True</td>\n",
       "      <td>Distrito Federal (DF)</td>\n",
       "      <td>...</td>\n",
       "      <td>NaN</td>\n",
       "      <td>NaN</td>\n",
       "      <td>NaN</td>\n",
       "      <td>NaN</td>\n",
       "      <td>NaN</td>\n",
       "      <td>NaN</td>\n",
       "      <td>NaN</td>\n",
       "      <td>NaN</td>\n",
       "      <td>NaN</td>\n",
       "      <td>NaN</td>\n",
       "    </tr>\n",
       "    <tr>\n",
       "      <th>1</th>\n",
       "      <td>zzls2oftfn9law393oezzls2ofhvfpzd</td>\n",
       "      <td>32.0</td>\n",
       "      <td>30-34</td>\n",
       "      <td>Masculino</td>\n",
       "      <td>Parda</td>\n",
       "      <td>Não</td>\n",
       "      <td>Sim, acredito que a minha a experiência profis...</td>\n",
       "      <td>Aprovação em processos seletivos/entrevistas</td>\n",
       "      <td>True</td>\n",
       "      <td>Pará (PA)</td>\n",
       "      <td>...</td>\n",
       "      <td>NaN</td>\n",
       "      <td>NaN</td>\n",
       "      <td>NaN</td>\n",
       "      <td>NaN</td>\n",
       "      <td>NaN</td>\n",
       "      <td>NaN</td>\n",
       "      <td>NaN</td>\n",
       "      <td>NaN</td>\n",
       "      <td>NaN</td>\n",
       "      <td>NaN</td>\n",
       "    </tr>\n",
       "    <tr>\n",
       "      <th>2</th>\n",
       "      <td>zzdwqzfqqp1ypc7ps6m0hzzdwqz292yi</td>\n",
       "      <td>53.0</td>\n",
       "      <td>50-54</td>\n",
       "      <td>Masculino</td>\n",
       "      <td>Branca</td>\n",
       "      <td>Não</td>\n",
       "      <td>NaN</td>\n",
       "      <td>NaN</td>\n",
       "      <td>True</td>\n",
       "      <td>Distrito Federal (DF)</td>\n",
       "      <td>...</td>\n",
       "      <td>0.0</td>\n",
       "      <td>1.0</td>\n",
       "      <td>0.0</td>\n",
       "      <td>0.0</td>\n",
       "      <td>0.0</td>\n",
       "      <td>0.0</td>\n",
       "      <td>0.0</td>\n",
       "      <td>0.0</td>\n",
       "      <td>0.0</td>\n",
       "      <td>0.0</td>\n",
       "    </tr>\n",
       "    <tr>\n",
       "      <th>3</th>\n",
       "      <td>zzbqh3uy7yk7k9qmkzzbqtb4s9faqspl</td>\n",
       "      <td>27.0</td>\n",
       "      <td>25-29</td>\n",
       "      <td>Masculino</td>\n",
       "      <td>Branca</td>\n",
       "      <td>Não</td>\n",
       "      <td>NaN</td>\n",
       "      <td>NaN</td>\n",
       "      <td>True</td>\n",
       "      <td>Minas Gerais (MG)</td>\n",
       "      <td>...</td>\n",
       "      <td>1.0</td>\n",
       "      <td>0.0</td>\n",
       "      <td>0.0</td>\n",
       "      <td>0.0</td>\n",
       "      <td>0.0</td>\n",
       "      <td>0.0</td>\n",
       "      <td>0.0</td>\n",
       "      <td>0.0</td>\n",
       "      <td>0.0</td>\n",
       "      <td>0.0</td>\n",
       "    </tr>\n",
       "    <tr>\n",
       "      <th>4</th>\n",
       "      <td>zzaf1m95yan929rb94wzzaf1mekhvhpg</td>\n",
       "      <td>46.0</td>\n",
       "      <td>45-49</td>\n",
       "      <td>Feminino</td>\n",
       "      <td>Branca</td>\n",
       "      <td>Não</td>\n",
       "      <td>Não acredito que minha experiência profissiona...</td>\n",
       "      <td>NaN</td>\n",
       "      <td>True</td>\n",
       "      <td>Pará (PA)</td>\n",
       "      <td>...</td>\n",
       "      <td>NaN</td>\n",
       "      <td>NaN</td>\n",
       "      <td>NaN</td>\n",
       "      <td>NaN</td>\n",
       "      <td>NaN</td>\n",
       "      <td>NaN</td>\n",
       "      <td>NaN</td>\n",
       "      <td>NaN</td>\n",
       "      <td>NaN</td>\n",
       "      <td>NaN</td>\n",
       "    </tr>\n",
       "  </tbody>\n",
       "</table>\n",
       "<p>5 rows × 353 columns</p>\n",
       "</div>"
      ],
      "text/plain": [
       "                       ('P0', 'id')  ('P1_a ', 'Idade')  \\\n",
       "0  zzqzz3l9ily8nuo2m7wyzzqzz3w48o96                39.0   \n",
       "1  zzls2oftfn9law393oezzls2ofhvfpzd                32.0   \n",
       "2  zzdwqzfqqp1ypc7ps6m0hzzdwqz292yi                53.0   \n",
       "3  zzbqh3uy7yk7k9qmkzzbqtb4s9faqspl                27.0   \n",
       "4  zzaf1m95yan929rb94wzzaf1mekhvhpg                46.0   \n",
       "\n",
       "  ('P1_a_1 ', 'Faixa idade') ('P1_b ', 'Genero') ('P1_c ', 'Cor/raca/etnia')  \\\n",
       "0                      35-39           Masculino                       Parda   \n",
       "1                      30-34           Masculino                       Parda   \n",
       "2                      50-54           Masculino                      Branca   \n",
       "3                      25-29           Masculino                      Branca   \n",
       "4                      45-49            Feminino                      Branca   \n",
       "\n",
       "  ('P1_d ', 'PCD')  ('P1_e ', 'experiencia_profissional_prejudicada')  \\\n",
       "0              Não  Não acredito que minha experiência profissiona...   \n",
       "1              Não  Sim, acredito que a minha a experiência profis...   \n",
       "2              Não                                                NaN   \n",
       "3              Não                                                NaN   \n",
       "4              Não  Não acredito que minha experiência profissiona...   \n",
       "\n",
       "             ('P1_f ', 'aspectos_prejudicados')  ('P1_g ', 'vive_no_brasil')  \\\n",
       "0                                           NaN                         True   \n",
       "1  Aprovação em processos seletivos/entrevistas                         True   \n",
       "2                                           NaN                         True   \n",
       "3                                           NaN                         True   \n",
       "4                                           NaN                         True   \n",
       "\n",
       "  ('P1_i ', 'Estado onde mora')  ...  \\\n",
       "0         Distrito Federal (DF)  ...   \n",
       "1                     Pará (PA)  ...   \n",
       "2         Distrito Federal (DF)  ...   \n",
       "3             Minas Gerais (MG)  ...   \n",
       "4                     Pará (PA)  ...   \n",
       "\n",
       "  ('P8_d_2 ', 'Coletando e limpando os dados que uso para análise e modelagem.')  \\\n",
       "0                                                NaN                               \n",
       "1                                                NaN                               \n",
       "2                                                0.0                               \n",
       "3                                                1.0                               \n",
       "4                                                NaN                               \n",
       "\n",
       "  ('P8_d_3 ', 'Entrando em contato com os times de negócio para definição do problema, identificar a solução e apresentação de resultados.')  \\\n",
       "0                                                NaN                                                                                           \n",
       "1                                                NaN                                                                                           \n",
       "2                                                1.0                                                                                           \n",
       "3                                                0.0                                                                                           \n",
       "4                                                NaN                                                                                           \n",
       "\n",
       "  ('P8_d_4 ', 'Desenvolvendo modelos de Machine Learning com o objetivo de colocar em produção em sistemas (produtos de dados).')  \\\n",
       "0                                                NaN                                                                                \n",
       "1                                                NaN                                                                                \n",
       "2                                                0.0                                                                                \n",
       "3                                                0.0                                                                                \n",
       "4                                                NaN                                                                                \n",
       "\n",
       "  ('P8_d_5 ', 'Colocando modelos em produção, criando os pipelines de dados, APIs de consumo e monitoramento.')  \\\n",
       "0                                                NaN                                                              \n",
       "1                                                NaN                                                              \n",
       "2                                                0.0                                                              \n",
       "3                                                0.0                                                              \n",
       "4                                                NaN                                                              \n",
       "\n",
       "  ('P8_d_6 ', 'Cuidando da manutenção de modelos de Machine Learning já em produção, atuando no monitoramento, ajustes e refatoração quando necessário.')  \\\n",
       "0                                                NaN                                                                                                        \n",
       "1                                                NaN                                                                                                        \n",
       "2                                                0.0                                                                                                        \n",
       "3                                                0.0                                                                                                        \n",
       "4                                                NaN                                                                                                        \n",
       "\n",
       "  ('P8_d_7 ', 'Realizando construções de dashboards em ferramentas de BI como PowerBI, Tableau, Looker, Qlik, etc.')  \\\n",
       "0                                                NaN                                                                   \n",
       "1                                                NaN                                                                   \n",
       "2                                                0.0                                                                   \n",
       "3                                                0.0                                                                   \n",
       "4                                                NaN                                                                   \n",
       "\n",
       "  ('P8_d_8 ', 'Utilizando ferramentas avançadas de estatística como SAS, SPSS, Stata etc, para realizar análises.')  \\\n",
       "0                                                NaN                                                                  \n",
       "1                                                NaN                                                                  \n",
       "2                                                0.0                                                                  \n",
       "3                                                0.0                                                                  \n",
       "4                                                NaN                                                                  \n",
       "\n",
       "  ('P8_d_9 ', 'Criando e dando manutenção em ETLs, DAGs e automações de pipelines de dados.')  \\\n",
       "0                                                NaN                                            \n",
       "1                                                NaN                                            \n",
       "2                                                0.0                                            \n",
       "3                                                0.0                                            \n",
       "4                                                NaN                                            \n",
       "\n",
       "  ('P8_d_10 ', 'Criando e gerenciando soluções de Feature Store e cultura de MLOps.')  \\\n",
       "0                                                NaN                                    \n",
       "1                                                NaN                                    \n",
       "2                                                0.0                                    \n",
       "3                                                0.0                                    \n",
       "4                                                NaN                                    \n",
       "\n",
       "  ('P8_d_11 ', 'Criando e mantendo a infra que meus modelos e soluções rodam (clusters, servidores, API, containers, etc.)')  \n",
       "0                                                NaN                                                                          \n",
       "1                                                NaN                                                                          \n",
       "2                                                0.0                                                                          \n",
       "3                                                0.0                                                                          \n",
       "4                                                NaN                                                                          \n",
       "\n",
       "[5 rows x 353 columns]"
      ]
     },
     "execution_count": 309,
     "metadata": {},
     "output_type": "execute_result"
    }
   ],
   "source": [
    "df.head()"
   ]
  },
  {
   "cell_type": "code",
   "execution_count": 310,
   "id": "b737245d",
   "metadata": {},
   "outputs": [
    {
     "data": {
      "text/plain": [
       "(4271, 353)"
      ]
     },
     "execution_count": 310,
     "metadata": {},
     "output_type": "execute_result"
    }
   ],
   "source": [
    "df.shape"
   ]
  },
  {
   "cell_type": "code",
   "execution_count": 311,
   "id": "a17cd72e",
   "metadata": {},
   "outputs": [
    {
     "name": "stdout",
     "output_type": "stream",
     "text": [
      "<class 'pandas.core.frame.DataFrame'>\n",
      "RangeIndex: 4271 entries, 0 to 4270\n",
      "Columns: 353 entries, ('P0', 'id') to ('P8_d_11 ', 'Criando e mantendo a infra que meus modelos e soluções rodam (clusters, servidores, API, containers, etc.)')\n",
      "dtypes: bool(1), float64(284), object(68)\n",
      "memory usage: 11.5+ MB\n"
     ]
    }
   ],
   "source": [
    "df.info()"
   ]
  },
  {
   "cell_type": "code",
   "execution_count": 313,
   "id": "ab4f7d26",
   "metadata": {},
   "outputs": [
    {
     "data": {
      "text/plain": [
       "('P0', 'id')                                                                                                                     0\n",
       "('P1_a ', 'Idade')                                                                                                              74\n",
       "('P1_a_1 ', 'Faixa idade')                                                                                                       0\n",
       "('P1_b ', 'Genero')                                                                                                              9\n",
       "('P1_c ', 'Cor/raca/etnia')                                                                                                      0\n",
       "                                                                                                                              ... \n",
       "('P8_d_7 ', 'Realizando construções de dashboards em ferramentas de BI como PowerBI, Tableau, Looker, Qlik, etc.')            3642\n",
       "('P8_d_8 ', 'Utilizando ferramentas avançadas de estatística como SAS, SPSS, Stata etc, para realizar análises.')             3642\n",
       "('P8_d_9 ', 'Criando e dando manutenção em ETLs, DAGs e automações de pipelines de dados.')                                   3642\n",
       "('P8_d_10 ', 'Criando e gerenciando soluções de Feature Store e cultura de MLOps.')                                           3642\n",
       "('P8_d_11 ', 'Criando e mantendo a infra que meus modelos e soluções rodam (clusters, servidores, API, containers, etc.)')    3642\n",
       "Length: 353, dtype: int64"
      ]
     },
     "execution_count": 313,
     "metadata": {},
     "output_type": "execute_result"
    }
   ],
   "source": [
    "df.isna().sum() # tem NaN?"
   ]
  },
  {
   "cell_type": "markdown",
   "id": "a51bf261",
   "metadata": {},
   "source": [
    "Essa base é bem diferente da anterior, não é mesmo? Parece que vamos precisar fazer um pouco de \"limpeza\" nos dados!"
   ]
  },
  {
   "cell_type": "markdown",
   "id": "e1b874f8",
   "metadata": {},
   "source": [
    "Vamos entender algumas informações báscias dos nossos dados?"
   ]
  },
  {
   "cell_type": "code",
   "execution_count": 318,
   "id": "a962ac18",
   "metadata": {},
   "outputs": [
    {
     "data": {
      "text/plain": [
       "<AxesSubplot: ylabel='Frequency'>"
      ]
     },
     "execution_count": 318,
     "metadata": {},
     "output_type": "execute_result"
    },
    {
     "data": {
      "image/png": "[encoded data removed]",
      "text/plain": [
       "<Figure size 432x288 with 1 Axes>"
      ]
     },
     "metadata": {
      "needs_background": "light"
     },
     "output_type": "display_data"
    }
   ],
   "source": [
    "# Qual a distribuição de idades dos respondentes?\n",
    "df[\"('P1_a ', 'Idade')\"].dropna().plot(kind = 'hist', bins = 30)"
   ]
  },
  {
   "cell_type": "code",
   "execution_count": 320,
   "id": "4be713b4",
   "metadata": {},
   "outputs": [
    {
     "data": {
      "text/plain": [
       "31.169168453657374"
      ]
     },
     "execution_count": 320,
     "metadata": {},
     "output_type": "execute_result"
    }
   ],
   "source": [
    "media = df[\"('P1_a ', 'Idade')\"].mean()\n",
    "media"
   ]
  },
  {
   "cell_type": "code",
   "execution_count": 322,
   "id": "a2bb4733",
   "metadata": {},
   "outputs": [
    {
     "data": {
      "text/plain": [
       "30.0"
      ]
     },
     "execution_count": 322,
     "metadata": {},
     "output_type": "execute_result"
    }
   ],
   "source": [
    "mediana = df[\"('P1_a ', 'Idade')\"].median()\n",
    "mediana"
   ]
  },
  {
   "cell_type": "code",
   "execution_count": 323,
   "id": "bfa567ee",
   "metadata": {},
   "outputs": [],
   "source": [
    "import matplotlib.pyplot as plt"
   ]
  },
  {
   "cell_type": "code",
   "execution_count": 328,
   "id": "0e59865f",
   "metadata": {},
   "outputs": [
    {
     "data": {
      "text/plain": [
       "<matplotlib.legend.Legend at 0x268538c43a0>"
      ]
     },
     "execution_count": 328,
     "metadata": {},
     "output_type": "execute_result"
    },
    {
     "data": {
      "image/png": "[encoded data removed]",
      "text/plain": [
       "<Figure size 432x288 with 1 Axes>"
      ]
     },
     "metadata": {
      "needs_background": "light"
     },
     "output_type": "display_data"
    }
   ],
   "source": [
    "# Qual a distribuição de idades dos respondentes?\n",
    "ax = df[\"('P1_a ', 'Idade')\"].dropna().plot(kind = 'hist', bins = 30)\n",
    "\n",
    "# média\n",
    "ax.vlines(x = media, ymin = 0, ymax = 550, colors = 'black', linestyle = 'dashed')\n",
    "\n",
    "# mediana\n",
    "ax.vlines(x = mediana, ymin = 0, ymax = 550, colors = 'red', linestyle = 'dashed')\n",
    "\n",
    "plt.legend([\"Distribuição de idades\", \"Idade média\", \"Idade mediana\"])"
   ]
  },
  {
   "cell_type": "markdown",
   "id": "775c8580",
   "metadata": {},
   "source": [
    "**Como é a distribuição de idades por nível do cargo?**"
   ]
  },
  {
   "cell_type": "code",
   "execution_count": 329,
   "id": "00220736",
   "metadata": {},
   "outputs": [
    {
     "data": {
      "text/plain": [
       "array(['Júnior', nan, 'Pleno', 'Sênior'], dtype=object)"
      ]
     },
     "execution_count": 329,
     "metadata": {},
     "output_type": "execute_result"
    }
   ],
   "source": [
    "df[\"('P2_g ', 'Nivel')\"].unique()"
   ]
  },
  {
   "cell_type": "code",
   "execution_count": 330,
   "id": "02e3a7ac",
   "metadata": {},
   "outputs": [
    {
     "data": {
      "text/plain": [
       "('P2_g ', 'Nivel')\n",
       "Júnior    27.0\n",
       "Pleno     29.0\n",
       "Sênior    32.0\n",
       "Name: ('P1_a ', 'Idade'), dtype: float64"
      ]
     },
     "execution_count": 330,
     "metadata": {},
     "output_type": "execute_result"
    }
   ],
   "source": [
    "df.groupby(\"('P2_g ', 'Nivel')\")[\"('P1_a ', 'Idade')\"].median()"
   ]
  },
  {
   "cell_type": "code",
   "execution_count": 331,
   "id": "6ffd2490",
   "metadata": {},
   "outputs": [
    {
     "data": {
      "text/plain": [
       "('P2_g ', 'Nivel')\n",
       "Júnior    27.941584\n",
       "Pleno     30.150476\n",
       "Sênior    33.272933\n",
       "Name: ('P1_a ', 'Idade'), dtype: float64"
      ]
     },
     "execution_count": 331,
     "metadata": {},
     "output_type": "execute_result"
    }
   ],
   "source": [
    "df.groupby(\"('P2_g ', 'Nivel')\")[\"('P1_a ', 'Idade')\"].mean()"
   ]
  },
  {
   "cell_type": "code",
   "execution_count": 333,
   "id": "839b30a0",
   "metadata": {},
   "outputs": [
    {
     "data": {
      "text/plain": [
       "Text(0.5, 0, 'Senioridade')"
      ]
     },
     "execution_count": 333,
     "metadata": {},
     "output_type": "execute_result"
    },
    {
     "data": {
      "image/png": "[encoded data removed]",
      "text/plain": [
       "<Figure size 432x288 with 1 Axes>"
      ]
     },
     "metadata": {
      "needs_background": "light"
     },
     "output_type": "display_data"
    }
   ],
   "source": [
    "ax = sns.boxplot(data = df,\n",
    "           x = \"('P2_g ', 'Nivel')\",\n",
    "           y = \"('P1_a ', 'Idade')\")\n",
    "\n",
    "ax.set_ylabel(\"Idade\")\n",
    "ax.set_xlabel(\"Senioridade\")"
   ]
  },
  {
   "cell_type": "code",
   "execution_count": 334,
   "id": "59881bcf",
   "metadata": {},
   "outputs": [
    {
     "data": {
      "text/plain": [
       "Text(0.5, 0, 'Senioridade')"
      ]
     },
     "execution_count": 334,
     "metadata": {},
     "output_type": "execute_result"
    },
    {
     "data": {
      "image/png": "[encoded data removed]",
      "text/plain": [
       "<Figure size 432x288 with 1 Axes>"
      ]
     },
     "metadata": {
      "needs_background": "light"
     },
     "output_type": "display_data"
    }
   ],
   "source": [
    "ax = sns.violinplot(data = df,\n",
    "           x = \"('P2_g ', 'Nivel')\",\n",
    "           y = \"('P1_a ', 'Idade')\")\n",
    "\n",
    "ax.set_ylabel(\"Idade\")\n",
    "ax.set_xlabel(\"Senioridade\")"
   ]
  },
  {
   "cell_type": "markdown",
   "id": "b4952dd4",
   "metadata": {},
   "source": [
    "Parece existir uma tendência de, realmente, pessoas mais velhas ocuparem cargos com maiores senioridades, como seria esperado! Vale notar que existe certa discrepância neste comportamento: temos um número razoável de outliers para a senioridade \"Júnior\", por exemplo. A que isso pode ser devido?"
   ]
  },
  {
   "cell_type": "markdown",
   "id": "818a7e1a",
   "metadata": {},
   "source": [
    "**Para refletir:** como podemos assertir que a tendência que estamos observando é significativa?"
   ]
  },
  {
   "cell_type": "markdown",
   "id": "c316cff0",
   "metadata": {},
   "source": [
    "___"
   ]
  },
  {
   "cell_type": "code",
   "execution_count": 335,
   "id": "b965e6fa",
   "metadata": {},
   "outputs": [
    {
     "ename": "TypeError",
     "evalue": "Neither the `x` nor `y` variable appears to be numeric.",
     "output_type": "error",
     "traceback": [
      "\u001b[1;31m---------------------------------------------------------------------------\u001b[0m",
      "\u001b[1;31mTypeError\u001b[0m                                 Traceback (most recent call last)",
      "\u001b[1;32m<ipython-input-335-2db0caa60df5>\u001b[0m in \u001b[0;36m<module>\u001b[1;34m\u001b[0m\n\u001b[1;32m----> 1\u001b[1;33m ax = sns.boxplot(data = df,\n\u001b[0m\u001b[0;32m      2\u001b[0m            \u001b[0mx\u001b[0m \u001b[1;33m=\u001b[0m \u001b[1;34m\"('P2_g ', 'Nivel')\"\u001b[0m\u001b[1;33m,\u001b[0m\u001b[1;33m\u001b[0m\u001b[1;33m\u001b[0m\u001b[0m\n\u001b[0;32m      3\u001b[0m            y = \"('P2_h ', 'Faixa salarial')\")\n\u001b[0;32m      4\u001b[0m \u001b[1;33m\u001b[0m\u001b[0m\n\u001b[0;32m      5\u001b[0m \u001b[0max\u001b[0m\u001b[1;33m.\u001b[0m\u001b[0mset_ylabel\u001b[0m\u001b[1;33m(\u001b[0m\u001b[1;34m\"Idade\"\u001b[0m\u001b[1;33m)\u001b[0m\u001b[1;33m\u001b[0m\u001b[1;33m\u001b[0m\u001b[0m\n",
      "\u001b[1;32m~\\miniconda3\\lib\\site-packages\\seaborn\\_decorators.py\u001b[0m in \u001b[0;36minner_f\u001b[1;34m(*args, **kwargs)\u001b[0m\n\u001b[0;32m     44\u001b[0m             )\n\u001b[0;32m     45\u001b[0m         \u001b[0mkwargs\u001b[0m\u001b[1;33m.\u001b[0m\u001b[0mupdate\u001b[0m\u001b[1;33m(\u001b[0m\u001b[1;33m{\u001b[0m\u001b[0mk\u001b[0m\u001b[1;33m:\u001b[0m \u001b[0marg\u001b[0m \u001b[1;32mfor\u001b[0m \u001b[0mk\u001b[0m\u001b[1;33m,\u001b[0m \u001b[0marg\u001b[0m \u001b[1;32min\u001b[0m \u001b[0mzip\u001b[0m\u001b[1;33m(\u001b[0m\u001b[0msig\u001b[0m\u001b[1;33m.\u001b[0m\u001b[0mparameters\u001b[0m\u001b[1;33m,\u001b[0m \u001b[0margs\u001b[0m\u001b[1;33m)\u001b[0m\u001b[1;33m}\u001b[0m\u001b[1;33m)\u001b[0m\u001b[1;33m\u001b[0m\u001b[1;33m\u001b[0m\u001b[0m\n\u001b[1;32m---> 46\u001b[1;33m         \u001b[1;32mreturn\u001b[0m \u001b[0mf\u001b[0m\u001b[1;33m(\u001b[0m\u001b[1;33m**\u001b[0m\u001b[0mkwargs\u001b[0m\u001b[1;33m)\u001b[0m\u001b[1;33m\u001b[0m\u001b[1;33m\u001b[0m\u001b[0m\n\u001b[0m\u001b[0;32m     47\u001b[0m     \u001b[1;32mreturn\u001b[0m \u001b[0minner_f\u001b[0m\u001b[1;33m\u001b[0m\u001b[1;33m\u001b[0m\u001b[0m\n\u001b[0;32m     48\u001b[0m \u001b[1;33m\u001b[0m\u001b[0m\n",
      "\u001b[1;32m~\\miniconda3\\lib\\site-packages\\seaborn\\categorical.py\u001b[0m in \u001b[0;36mboxplot\u001b[1;34m(x, y, hue, data, order, hue_order, orient, color, palette, saturation, width, dodge, fliersize, linewidth, whis, ax, **kwargs)\u001b[0m\n\u001b[0;32m   2238\u001b[0m ):\n\u001b[0;32m   2239\u001b[0m \u001b[1;33m\u001b[0m\u001b[0m\n\u001b[1;32m-> 2240\u001b[1;33m     plotter = _BoxPlotter(x, y, hue, data, order, hue_order,\n\u001b[0m\u001b[0;32m   2241\u001b[0m                           \u001b[0morient\u001b[0m\u001b[1;33m,\u001b[0m \u001b[0mcolor\u001b[0m\u001b[1;33m,\u001b[0m \u001b[0mpalette\u001b[0m\u001b[1;33m,\u001b[0m \u001b[0msaturation\u001b[0m\u001b[1;33m,\u001b[0m\u001b[1;33m\u001b[0m\u001b[1;33m\u001b[0m\u001b[0m\n\u001b[0;32m   2242\u001b[0m                           width, dodge, fliersize, linewidth)\n",
      "\u001b[1;32m~\\miniconda3\\lib\\site-packages\\seaborn\\categorical.py\u001b[0m in \u001b[0;36m__init__\u001b[1;34m(self, x, y, hue, data, order, hue_order, orient, color, palette, saturation, width, dodge, fliersize, linewidth)\u001b[0m\n\u001b[0;32m    404\u001b[0m                  width, dodge, fliersize, linewidth):\n\u001b[0;32m    405\u001b[0m \u001b[1;33m\u001b[0m\u001b[0m\n\u001b[1;32m--> 406\u001b[1;33m         \u001b[0mself\u001b[0m\u001b[1;33m.\u001b[0m\u001b[0mestablish_variables\u001b[0m\u001b[1;33m(\u001b[0m\u001b[0mx\u001b[0m\u001b[1;33m,\u001b[0m \u001b[0my\u001b[0m\u001b[1;33m,\u001b[0m \u001b[0mhue\u001b[0m\u001b[1;33m,\u001b[0m \u001b[0mdata\u001b[0m\u001b[1;33m,\u001b[0m \u001b[0morient\u001b[0m\u001b[1;33m,\u001b[0m \u001b[0morder\u001b[0m\u001b[1;33m,\u001b[0m \u001b[0mhue_order\u001b[0m\u001b[1;33m)\u001b[0m\u001b[1;33m\u001b[0m\u001b[1;33m\u001b[0m\u001b[0m\n\u001b[0m\u001b[0;32m    407\u001b[0m         \u001b[0mself\u001b[0m\u001b[1;33m.\u001b[0m\u001b[0mestablish_colors\u001b[0m\u001b[1;33m(\u001b[0m\u001b[0mcolor\u001b[0m\u001b[1;33m,\u001b[0m \u001b[0mpalette\u001b[0m\u001b[1;33m,\u001b[0m \u001b[0msaturation\u001b[0m\u001b[1;33m)\u001b[0m\u001b[1;33m\u001b[0m\u001b[1;33m\u001b[0m\u001b[0m\n\u001b[0;32m    408\u001b[0m \u001b[1;33m\u001b[0m\u001b[0m\n",
      "\u001b[1;32m~\\miniconda3\\lib\\site-packages\\seaborn\\categorical.py\u001b[0m in \u001b[0;36mestablish_variables\u001b[1;34m(self, x, y, hue, data, orient, order, hue_order, units)\u001b[0m\n\u001b[0;32m    154\u001b[0m \u001b[1;33m\u001b[0m\u001b[0m\n\u001b[0;32m    155\u001b[0m             \u001b[1;31m# Figure out the plotting orientation\u001b[0m\u001b[1;33m\u001b[0m\u001b[1;33m\u001b[0m\u001b[1;33m\u001b[0m\u001b[0m\n\u001b[1;32m--> 156\u001b[1;33m             orient = infer_orient(\n\u001b[0m\u001b[0;32m    157\u001b[0m                 \u001b[0mx\u001b[0m\u001b[1;33m,\u001b[0m \u001b[0my\u001b[0m\u001b[1;33m,\u001b[0m \u001b[0morient\u001b[0m\u001b[1;33m,\u001b[0m \u001b[0mrequire_numeric\u001b[0m\u001b[1;33m=\u001b[0m\u001b[0mself\u001b[0m\u001b[1;33m.\u001b[0m\u001b[0mrequire_numeric\u001b[0m\u001b[1;33m\u001b[0m\u001b[1;33m\u001b[0m\u001b[0m\n\u001b[0;32m    158\u001b[0m             )\n",
      "\u001b[1;32m~\\miniconda3\\lib\\site-packages\\seaborn\\_core.py\u001b[0m in \u001b[0;36minfer_orient\u001b[1;34m(x, y, orient, require_numeric)\u001b[0m\n\u001b[0;32m   1343\u001b[0m     \u001b[1;32melif\u001b[0m \u001b[0mrequire_numeric\u001b[0m \u001b[1;32mand\u001b[0m \u001b[1;34m\"numeric\"\u001b[0m \u001b[1;32mnot\u001b[0m \u001b[1;32min\u001b[0m \u001b[1;33m(\u001b[0m\u001b[0mx_type\u001b[0m\u001b[1;33m,\u001b[0m \u001b[0my_type\u001b[0m\u001b[1;33m)\u001b[0m\u001b[1;33m:\u001b[0m\u001b[1;33m\u001b[0m\u001b[1;33m\u001b[0m\u001b[0m\n\u001b[0;32m   1344\u001b[0m         \u001b[0merr\u001b[0m \u001b[1;33m=\u001b[0m \u001b[1;34m\"Neither the `x` nor `y` variable appears to be numeric.\"\u001b[0m\u001b[1;33m\u001b[0m\u001b[1;33m\u001b[0m\u001b[0m\n\u001b[1;32m-> 1345\u001b[1;33m         \u001b[1;32mraise\u001b[0m \u001b[0mTypeError\u001b[0m\u001b[1;33m(\u001b[0m\u001b[0merr\u001b[0m\u001b[1;33m)\u001b[0m\u001b[1;33m\u001b[0m\u001b[1;33m\u001b[0m\u001b[0m\n\u001b[0m\u001b[0;32m   1346\u001b[0m \u001b[1;33m\u001b[0m\u001b[0m\n\u001b[0;32m   1347\u001b[0m     \u001b[1;32melse\u001b[0m\u001b[1;33m:\u001b[0m\u001b[1;33m\u001b[0m\u001b[1;33m\u001b[0m\u001b[0m\n",
      "\u001b[1;31mTypeError\u001b[0m: Neither the `x` nor `y` variable appears to be numeric."
     ]
    }
   ],
   "source": [
    "ax = sns.boxplot(data = df,\n",
    "           x = \"('P2_g ', 'Nivel')\",\n",
    "           y = \"('P2_h ', 'Faixa salarial')\")\n",
    "\n",
    "ax.set_ylabel(\"Idade\")\n",
    "ax.set_xlabel(\"Senioridade\")"
   ]
  },
  {
   "cell_type": "code",
   "execution_count": 337,
   "id": "6b60af9c",
   "metadata": {},
   "outputs": [
    {
     "data": {
      "text/plain": [
       "0        de R$ 8.001/mês a R$ 12.000/mês\n",
       "1         de R$ 4.001/mês a R$ 6.000/mês\n",
       "2       de R$ 12.001/mês a R$ 16.000/mês\n",
       "3       de R$ 12.001/mês a R$ 16.000/mês\n",
       "4         de R$ 6.001/mês a R$ 8.000/mês\n",
       "                      ...               \n",
       "4266      de R$ 4.001/mês a R$ 6.000/mês\n",
       "4267      de R$ 3.001/mês a R$ 4.000/mês\n",
       "4268    de R$ 16.001/mês a R$ 20.000/mês\n",
       "4269               Menos de R$ 1.000/mês\n",
       "4270      de R$ 3.001/mês a R$ 4.000/mês\n",
       "Name: ('P2_h ', 'Faixa salarial'), Length: 4271, dtype: object"
      ]
     },
     "execution_count": 337,
     "metadata": {},
     "output_type": "execute_result"
    }
   ],
   "source": [
    "df[\"('P2_h ', 'Faixa salarial')\"]"
   ]
  },
  {
   "cell_type": "code",
   "execution_count": 338,
   "id": "8b67b95b",
   "metadata": {},
   "outputs": [
    {
     "data": {
      "text/plain": [
       "array(['de R$ 8.001/mês a R$ 12.000/mês',\n",
       "       'de R$ 4.001/mês a R$ 6.000/mês',\n",
       "       'de R$ 12.001/mês a R$ 16.000/mês',\n",
       "       'de R$ 6.001/mês a R$ 8.000/mês', 'de R$ 2.001/mês a R$ 3.000/mês',\n",
       "       'de R$ 3.001/mês a R$ 4.000/mês', nan,\n",
       "       'de R$ 20.001/mês a R$ 25.000/mês',\n",
       "       'de R$ 16.001/mês a R$ 20.000/mês',\n",
       "       'de R$ 1.001/mês a R$ 2.000/mês', 'Menos de R$ 1.000/mês',\n",
       "       'de R$ 25.001/mês a R$ 30.000/mês', 'Acima de R$ 40.001/mês',\n",
       "       'de R$ 30.001/mês a R$ 40.000/mês'], dtype=object)"
      ]
     },
     "execution_count": 338,
     "metadata": {},
     "output_type": "execute_result"
    }
   ],
   "source": [
    "df[\"('P2_h ', 'Faixa salarial')\"].unique()"
   ]
  },
  {
   "cell_type": "code",
   "execution_count": 339,
   "id": "91b23cec",
   "metadata": {},
   "outputs": [],
   "source": [
    "# Podemos colocar a média de cada faixa salarial\n",
    "faixas_salariais = {\n",
    "    'Acima de R$ 40.001/mês': 40000,\n",
    "    'Menos de R$ 1.000/mês': 500,\n",
    "    'de R$ 1.001/mês a R$ 2.000/mês': 1500,\n",
    "    'de R$ 2.001/mês a R$ 3.000/mês': 2500,\n",
    "    'de R$ 3.001/mês a R$ 4.000/mês': 3500,\n",
    "    'de R$ 4.001/mês a R$ 6.000/mês': 5000,\n",
    "    'de R$ 6.001/mês a R$ 8.000/mês': 7000,\n",
    "    'de R$ 8.001/mês a R$ 12.000/mês': 10000,\n",
    "    'de R$ 12.001/mês a R$ 16.000/mês': 14000,\n",
    "    'de R$ 16.001/mês a R$ 20.000/mês': 18000,\n",
    "    'de R$ 20.001/mês a R$ 25.000/mês': 22500,\n",
    "    'de R$ 25.001/mês a R$ 30.000/mês': 27500,\n",
    "    'de R$ 30.001/mês a R$ 40.000/mês': 35000,\n",
    "    np.nan: np.nan\n",
    "}"
   ]
  },
  {
   "cell_type": "code",
   "execution_count": 342,
   "id": "bc6c5a77",
   "metadata": {},
   "outputs": [],
   "source": [
    "df[\"Média salarial\"] = df[\"('P2_h ', 'Faixa salarial')\"].apply(\n",
    "lambda faixa_salarial: faixas_salariais[faixa_salarial]\n",
    ")"
   ]
  },
  {
   "cell_type": "code",
   "execution_count": 344,
   "id": "9be8c58c",
   "metadata": {},
   "outputs": [
    {
     "data": {
      "text/html": [
       "<div>\n",
       "<style scoped>\n",
       "    .dataframe tbody tr th:only-of-type {\n",
       "        vertical-align: middle;\n",
       "    }\n",
       "\n",
       "    .dataframe tbody tr th {\n",
       "        vertical-align: top;\n",
       "    }\n",
       "\n",
       "    .dataframe thead th {\n",
       "        text-align: right;\n",
       "    }\n",
       "</style>\n",
       "<table border=\"1\" class=\"dataframe\">\n",
       "  <thead>\n",
       "    <tr style=\"text-align: right;\">\n",
       "      <th></th>\n",
       "      <th>('P2_h ', 'Faixa salarial')</th>\n",
       "      <th>Média salarial</th>\n",
       "    </tr>\n",
       "  </thead>\n",
       "  <tbody>\n",
       "    <tr>\n",
       "      <th>0</th>\n",
       "      <td>de R$ 8.001/mês a R$ 12.000/mês</td>\n",
       "      <td>10000.0</td>\n",
       "    </tr>\n",
       "    <tr>\n",
       "      <th>1</th>\n",
       "      <td>de R$ 4.001/mês a R$ 6.000/mês</td>\n",
       "      <td>5000.0</td>\n",
       "    </tr>\n",
       "    <tr>\n",
       "      <th>2</th>\n",
       "      <td>de R$ 12.001/mês a R$ 16.000/mês</td>\n",
       "      <td>14000.0</td>\n",
       "    </tr>\n",
       "    <tr>\n",
       "      <th>3</th>\n",
       "      <td>de R$ 12.001/mês a R$ 16.000/mês</td>\n",
       "      <td>14000.0</td>\n",
       "    </tr>\n",
       "    <tr>\n",
       "      <th>4</th>\n",
       "      <td>de R$ 6.001/mês a R$ 8.000/mês</td>\n",
       "      <td>7000.0</td>\n",
       "    </tr>\n",
       "    <tr>\n",
       "      <th>...</th>\n",
       "      <td>...</td>\n",
       "      <td>...</td>\n",
       "    </tr>\n",
       "    <tr>\n",
       "      <th>4266</th>\n",
       "      <td>de R$ 4.001/mês a R$ 6.000/mês</td>\n",
       "      <td>5000.0</td>\n",
       "    </tr>\n",
       "    <tr>\n",
       "      <th>4267</th>\n",
       "      <td>de R$ 3.001/mês a R$ 4.000/mês</td>\n",
       "      <td>3500.0</td>\n",
       "    </tr>\n",
       "    <tr>\n",
       "      <th>4268</th>\n",
       "      <td>de R$ 16.001/mês a R$ 20.000/mês</td>\n",
       "      <td>18000.0</td>\n",
       "    </tr>\n",
       "    <tr>\n",
       "      <th>4269</th>\n",
       "      <td>Menos de R$ 1.000/mês</td>\n",
       "      <td>500.0</td>\n",
       "    </tr>\n",
       "    <tr>\n",
       "      <th>4270</th>\n",
       "      <td>de R$ 3.001/mês a R$ 4.000/mês</td>\n",
       "      <td>3500.0</td>\n",
       "    </tr>\n",
       "  </tbody>\n",
       "</table>\n",
       "<p>4271 rows × 2 columns</p>\n",
       "</div>"
      ],
      "text/plain": [
       "           ('P2_h ', 'Faixa salarial')  Média salarial\n",
       "0      de R$ 8.001/mês a R$ 12.000/mês         10000.0\n",
       "1       de R$ 4.001/mês a R$ 6.000/mês          5000.0\n",
       "2     de R$ 12.001/mês a R$ 16.000/mês         14000.0\n",
       "3     de R$ 12.001/mês a R$ 16.000/mês         14000.0\n",
       "4       de R$ 6.001/mês a R$ 8.000/mês          7000.0\n",
       "...                                ...             ...\n",
       "4266    de R$ 4.001/mês a R$ 6.000/mês          5000.0\n",
       "4267    de R$ 3.001/mês a R$ 4.000/mês          3500.0\n",
       "4268  de R$ 16.001/mês a R$ 20.000/mês         18000.0\n",
       "4269             Menos de R$ 1.000/mês           500.0\n",
       "4270    de R$ 3.001/mês a R$ 4.000/mês          3500.0\n",
       "\n",
       "[4271 rows x 2 columns]"
      ]
     },
     "execution_count": 344,
     "metadata": {},
     "output_type": "execute_result"
    }
   ],
   "source": [
    "df[[\"('P2_h ', 'Faixa salarial')\", \"Média salarial\"]]"
   ]
  },
  {
   "cell_type": "code",
   "execution_count": 345,
   "id": "41436857",
   "metadata": {},
   "outputs": [
    {
     "data": {
      "text/plain": [
       "<AxesSubplot: xlabel=\"('P2_g ', 'Nivel')\", ylabel='Média salarial'>"
      ]
     },
     "execution_count": 345,
     "metadata": {},
     "output_type": "execute_result"
    },
    {
     "data": {
      "image/png": "[encoded data removed]",
      "text/plain": [
       "<Figure size 432x288 with 1 Axes>"
      ]
     },
     "metadata": {
      "needs_background": "light"
     },
     "output_type": "display_data"
    }
   ],
   "source": [
    "sns.boxplot(data = df,\n",
    "           x = \"('P2_g ', 'Nivel')\",\n",
    "           y = \"Média salarial\"\n",
    ")"
   ]
  },
  {
   "cell_type": "markdown",
   "id": "378eb510",
   "metadata": {},
   "source": [
    "Acima, \"inputamos\" apenas valores médios. Como poderíamos deixar o resultado ainda mais preciso?"
   ]
  },
  {
   "cell_type": "code",
   "execution_count": 347,
   "id": "1869eeed",
   "metadata": {},
   "outputs": [],
   "source": [
    "import numpy as np"
   ]
  },
  {
   "cell_type": "code",
   "execution_count": 352,
   "id": "797353ba",
   "metadata": {},
   "outputs": [],
   "source": [
    "def get_random_gaussian_salary(m):\n",
    "    return np.random.normal(m, m/10)"
   ]
  },
  {
   "cell_type": "code",
   "execution_count": 354,
   "id": "23a27421",
   "metadata": {},
   "outputs": [],
   "source": [
    "df[\"Média salarial 2\"] = df[\"Média salarial\"].apply(lambda x: get_random_gaussian_salary(x))"
   ]
  },
  {
   "cell_type": "code",
   "execution_count": 355,
   "id": "88258a31",
   "metadata": {},
   "outputs": [
    {
     "data": {
      "text/html": [
       "<div>\n",
       "<style scoped>\n",
       "    .dataframe tbody tr th:only-of-type {\n",
       "        vertical-align: middle;\n",
       "    }\n",
       "\n",
       "    .dataframe tbody tr th {\n",
       "        vertical-align: top;\n",
       "    }\n",
       "\n",
       "    .dataframe thead th {\n",
       "        text-align: right;\n",
       "    }\n",
       "</style>\n",
       "<table border=\"1\" class=\"dataframe\">\n",
       "  <thead>\n",
       "    <tr style=\"text-align: right;\">\n",
       "      <th></th>\n",
       "      <th>('P2_h ', 'Faixa salarial')</th>\n",
       "      <th>Média salarial 2</th>\n",
       "    </tr>\n",
       "  </thead>\n",
       "  <tbody>\n",
       "    <tr>\n",
       "      <th>0</th>\n",
       "      <td>de R$ 8.001/mês a R$ 12.000/mês</td>\n",
       "      <td>9161.951085</td>\n",
       "    </tr>\n",
       "    <tr>\n",
       "      <th>1</th>\n",
       "      <td>de R$ 4.001/mês a R$ 6.000/mês</td>\n",
       "      <td>5028.777177</td>\n",
       "    </tr>\n",
       "    <tr>\n",
       "      <th>2</th>\n",
       "      <td>de R$ 12.001/mês a R$ 16.000/mês</td>\n",
       "      <td>14214.837980</td>\n",
       "    </tr>\n",
       "    <tr>\n",
       "      <th>3</th>\n",
       "      <td>de R$ 12.001/mês a R$ 16.000/mês</td>\n",
       "      <td>14594.979272</td>\n",
       "    </tr>\n",
       "    <tr>\n",
       "      <th>4</th>\n",
       "      <td>de R$ 6.001/mês a R$ 8.000/mês</td>\n",
       "      <td>6381.380222</td>\n",
       "    </tr>\n",
       "    <tr>\n",
       "      <th>...</th>\n",
       "      <td>...</td>\n",
       "      <td>...</td>\n",
       "    </tr>\n",
       "    <tr>\n",
       "      <th>4266</th>\n",
       "      <td>de R$ 4.001/mês a R$ 6.000/mês</td>\n",
       "      <td>5223.015917</td>\n",
       "    </tr>\n",
       "    <tr>\n",
       "      <th>4267</th>\n",
       "      <td>de R$ 3.001/mês a R$ 4.000/mês</td>\n",
       "      <td>3360.554858</td>\n",
       "    </tr>\n",
       "    <tr>\n",
       "      <th>4268</th>\n",
       "      <td>de R$ 16.001/mês a R$ 20.000/mês</td>\n",
       "      <td>16565.153137</td>\n",
       "    </tr>\n",
       "    <tr>\n",
       "      <th>4269</th>\n",
       "      <td>Menos de R$ 1.000/mês</td>\n",
       "      <td>608.124310</td>\n",
       "    </tr>\n",
       "    <tr>\n",
       "      <th>4270</th>\n",
       "      <td>de R$ 3.001/mês a R$ 4.000/mês</td>\n",
       "      <td>3697.348473</td>\n",
       "    </tr>\n",
       "  </tbody>\n",
       "</table>\n",
       "<p>4271 rows × 2 columns</p>\n",
       "</div>"
      ],
      "text/plain": [
       "           ('P2_h ', 'Faixa salarial')  Média salarial 2\n",
       "0      de R$ 8.001/mês a R$ 12.000/mês       9161.951085\n",
       "1       de R$ 4.001/mês a R$ 6.000/mês       5028.777177\n",
       "2     de R$ 12.001/mês a R$ 16.000/mês      14214.837980\n",
       "3     de R$ 12.001/mês a R$ 16.000/mês      14594.979272\n",
       "4       de R$ 6.001/mês a R$ 8.000/mês       6381.380222\n",
       "...                                ...               ...\n",
       "4266    de R$ 4.001/mês a R$ 6.000/mês       5223.015917\n",
       "4267    de R$ 3.001/mês a R$ 4.000/mês       3360.554858\n",
       "4268  de R$ 16.001/mês a R$ 20.000/mês      16565.153137\n",
       "4269             Menos de R$ 1.000/mês        608.124310\n",
       "4270    de R$ 3.001/mês a R$ 4.000/mês       3697.348473\n",
       "\n",
       "[4271 rows x 2 columns]"
      ]
     },
     "execution_count": 355,
     "metadata": {},
     "output_type": "execute_result"
    }
   ],
   "source": [
    "df[[\"('P2_h ', 'Faixa salarial')\", \"Média salarial 2\"]]"
   ]
  },
  {
   "cell_type": "code",
   "execution_count": 356,
   "id": "cc93d806",
   "metadata": {},
   "outputs": [
    {
     "data": {
      "text/plain": [
       "<AxesSubplot: xlabel=\"('P2_g ', 'Nivel')\", ylabel='Média salarial 2'>"
      ]
     },
     "execution_count": 356,
     "metadata": {},
     "output_type": "execute_result"
    },
    {
     "data": {
      "image/png": "[encoded data removed]",
      "text/plain": [
       "<Figure size 432x288 with 1 Axes>"
      ]
     },
     "metadata": {
      "needs_background": "light"
     },
     "output_type": "display_data"
    }
   ],
   "source": [
    "sns.boxplot(data = df,\n",
    "           x = \"('P2_g ', 'Nivel')\",\n",
    "           y = \"Média salarial 2\"\n",
    ")"
   ]
  },
  {
   "cell_type": "code",
   "execution_count": 366,
   "id": "19c09ef3",
   "metadata": {},
   "outputs": [
    {
     "data": {
      "text/plain": [
       "<AxesSubplot: title={'center': 'Utilizando números aleatórios'}, ylabel='Frequency'>"
      ]
     },
     "execution_count": 366,
     "metadata": {},
     "output_type": "execute_result"
    },
    {
     "data": {
      "image/png": "[encoded data removed]",
      "text/plain": [
       "<Figure size 720x288 with 2 Axes>"
      ]
     },
     "metadata": {
      "needs_background": "light"
     },
     "output_type": "display_data"
    }
   ],
   "source": [
    "fig, ax = plt.subplots(1,2,figsize = (10,4))\n",
    "\n",
    "df[\"Média salarial\"].plot(kind = 'hist', ax = ax[0], bins = 50, title = \"Utilizando a média\")\n",
    "df[\"Média salarial 2\"].plot(kind = 'hist', ax = ax[1], bins = 50, title = \"Utilizando números aleatórios\")\n"
   ]
  },
  {
   "cell_type": "code",
   "execution_count": 361,
   "id": "8aacf0ba",
   "metadata": {},
   "outputs": [
    {
     "data": {
      "text/plain": [
       "array([<AxesSubplot: >, <AxesSubplot: >], dtype=object)"
      ]
     },
     "execution_count": 361,
     "metadata": {},
     "output_type": "execute_result"
    }
   ],
   "source": [
    "ax"
   ]
  },
  {
   "cell_type": "code",
   "execution_count": 367,
   "id": "915b311f",
   "metadata": {},
   "outputs": [
    {
     "data": {
      "text/plain": [
       "<AxesSubplot: xlabel='Média salarial 2', ylabel='Count'>"
      ]
     },
     "execution_count": 367,
     "metadata": {},
     "output_type": "execute_result"
    },
    {
     "data": {
      "image/png": "[encoded data removed]",
      "text/plain": [
       "<Figure size 432x288 with 1 Axes>"
      ]
     },
     "metadata": {
      "needs_background": "light"
     },
     "output_type": "display_data"
    }
   ],
   "source": [
    "sns.histplot(data = df,\n",
    "            x = \"Média salarial 2\",\n",
    "            hue = \"('P2_g ', 'Nivel')\")"
   ]
  },
  {
   "cell_type": "code",
   "execution_count": 368,
   "id": "98eae0c9",
   "metadata": {},
   "outputs": [
    {
     "data": {
      "text/plain": [
       "<AxesSubplot: xlabel='Média salarial 2', ylabel='Density'>"
      ]
     },
     "execution_count": 368,
     "metadata": {},
     "output_type": "execute_result"
    },
    {
     "data": {
      "image/png": "[encoded data removed]",
      "text/plain": [
       "<Figure size 432x288 with 1 Axes>"
      ]
     },
     "metadata": {
      "needs_background": "light"
     },
     "output_type": "display_data"
    }
   ],
   "source": [
    "sns.kdeplot(data = df,\n",
    "            x = \"Média salarial 2\",\n",
    "            hue = \"('P2_g ', 'Nivel')\")"
   ]
  },
  {
   "cell_type": "markdown",
   "id": "af36edbf",
   "metadata": {},
   "source": [
    "Como podemos \"juntar\" relações entre salário, idade e senioridade?"
   ]
  },
  {
   "cell_type": "code",
   "execution_count": null,
   "id": "2a7c55dd",
   "metadata": {},
   "outputs": [],
   "source": []
  },
  {
   "cell_type": "markdown",
   "id": "bf3750b3",
   "metadata": {},
   "source": [
    "___"
   ]
  },
  {
   "cell_type": "markdown",
   "id": "f3206a93",
   "metadata": {},
   "source": [
    "Há diferença salarial entre homens e não homens?"
   ]
  },
  {
   "cell_type": "code",
   "execution_count": null,
   "id": "c71b76d5",
   "metadata": {},
   "outputs": [],
   "source": []
  },
  {
   "cell_type": "code",
   "execution_count": null,
   "id": "431d4100",
   "metadata": {},
   "outputs": [],
   "source": []
  },
  {
   "cell_type": "markdown",
   "id": "88e8ed9f",
   "metadata": {},
   "source": [
    "**ATENÇÃO:** nossa abordagem para inferir salários pode introduzir efeitos artificiais! Você conseguiria pensar em outras maneiras de realizar uma análise desse tipo?"
   ]
  },
  {
   "cell_type": "code",
   "execution_count": null,
   "id": "475dd7c2",
   "metadata": {},
   "outputs": [],
   "source": []
  },
  {
   "cell_type": "markdown",
   "id": "d3577428",
   "metadata": {},
   "source": [
    "Ao fazer uma tabela de contingência, estamos contabilizando o número de entradas em cada combinação de categorias (neste caso, faixas salarias e gênero)."
   ]
  },
  {
   "cell_type": "code",
   "execution_count": null,
   "id": "02cec039",
   "metadata": {},
   "outputs": [],
   "source": []
  },
  {
   "cell_type": "markdown",
   "id": "1f2ae011",
   "metadata": {},
   "source": [
    "Como podemos tentar verificar se as variáveis 'faixa salarial' e 'gênero' estão associadas?"
   ]
  },
  {
   "cell_type": "code",
   "execution_count": null,
   "id": "76549dde",
   "metadata": {},
   "outputs": [],
   "source": []
  },
  {
   "cell_type": "code",
   "execution_count": null,
   "id": "86438e5a",
   "metadata": {},
   "outputs": [],
   "source": []
  },
  {
   "cell_type": "markdown",
   "id": "e987c423",
   "metadata": {},
   "source": [
    "O p-valor do teste indica que deveríamos rejeitar a hipótese de que não existe associação entre salário e gênero! (Mais detalhes serão vistos em Estatística I!)."
   ]
  },
  {
   "cell_type": "markdown",
   "id": "1935b6ba",
   "metadata": {},
   "source": [
    "___"
   ]
  },
  {
   "cell_type": "markdown",
   "id": "b2dfa6b2",
   "metadata": {},
   "source": [
    "Nessa aula, enfocamos o papel de utilizar visualizações para nos auxiliar a extrair insights e a identificar padrões! Note que há uma série de passos importantes em uma análise exploratória para os quais ainda não nos atentamos, como o tratamento de valores nulos e a identificação de outliers!\n",
    "\n",
    "Exploraremos melhor esse tópico nas próximas aulas! "
   ]
  }
 ],
 "metadata": {
  "kernelspec": {
   "display_name": "Python 3",
   "language": "python",
   "name": "python3"
  },
  "language_info": {
   "codemirror_mode": {
    "name": "ipython",
    "version": 3
   },
   "file_extension": ".py",
   "mimetype": "text/x-python",
   "name": "python",
   "nbconvert_exporter": "python",
   "pygments_lexer": "ipython3",
   "version": "3.9.1"
  }
 },
 "nbformat": 4,
 "nbformat_minor": 5
}
